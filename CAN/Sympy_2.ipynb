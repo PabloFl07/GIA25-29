{
 "cells": [
  {
   "cell_type": "markdown",
   "id": "f381a07d",
   "metadata": {},
   "source": [
    "# Simpy 2"
   ]
  },
  {
   "cell_type": "code",
   "execution_count": 1,
   "id": "f2c1f10e",
   "metadata": {},
   "outputs": [],
   "source": [
    "import sympy as sp"
   ]
  },
  {
   "cell_type": "markdown",
   "id": "8a7e4f86",
   "metadata": {},
   "source": [
    "## Límites\n"
   ]
  },
  {
   "cell_type": "code",
   "execution_count": null,
   "id": "3c7fcc69",
   "metadata": {},
   "outputs": [
    {
     "data": {
      "text/latex": [
       "$\\displaystyle 9$"
      ],
      "text/plain": [
       "9"
      ]
     },
     "metadata": {},
     "output_type": "display_data"
    }
   ],
   "source": [
    "x = sp.Symbol('x')         # Variable simbólica x\n",
    "\n",
    "f = x**2                   # Expresión  \n",
    "\n",
    "a = -3                     # Punto en el que se calcula el límite\n",
    "\n",
    "lim = sp.limit(f, x, a)    # Límite de la expresión cuando x se aproxima al punto a\n",
    "\n",
    "display(lim) "
   ]
  },
  {
   "cell_type": "markdown",
   "id": "cb0e089e",
   "metadata": {},
   "source": [
    "##### Límites laterales"
   ]
  },
  {
   "cell_type": "code",
   "execution_count": null,
   "id": "1bbed051",
   "metadata": {},
   "outputs": [
    {
     "name": "stdout",
     "output_type": "stream",
     "text": [
      "Limite por la derecha:  oo\n",
      "Limite por la izquierda:  -oo\n"
     ]
    },
    {
     "data": {
      "text/latex": [
       "$\\displaystyle \\infty$"
      ],
      "text/plain": [
       "oo"
      ]
     },
     "metadata": {},
     "output_type": "display_data"
    }
   ],
   "source": [
    "f1 = 1/x \n",
    "\n",
    "limi = sp.limit(f1, x, 0,'+')   # Límite de f1 en a=0 por la DERECHA (+)\n",
    "print('Limite por la derecha: ',limi)\n",
    "\n",
    "limd = sp.limit(f1, x, 0,'-')   # Límite de f1 en a=0 por la IZQUIERDA (-)\n",
    "print('Limite por la izquierda: ',limd)\n",
    "\n",
    "\n",
    "lim= sp.limit(f1, x, 0)         # Si no especificamos el lado, lo calcula por la DERECHA \n",
    "display(lim)"
   ]
  },
  {
   "cell_type": "markdown",
   "id": "bf33468d",
   "metadata": {},
   "source": [
    "## Asíntotas\n"
   ]
  },
  {
   "cell_type": "markdown",
   "id": "edc52a9a",
   "metadata": {},
   "source": [
    "- La asíntota horizontal indica que la función se acerca a un **valor constante** cuando x→∞ o x→−∞.\n",
    "\n",
    "$y=L\\ es asíntota horizontal si\\ \\lim_{x \\to \\infty }f(x) = L\\ o\\ \\lim_{x \\to -\\infty }f(x) = L   $ \n",
    "\n",
    "- Una asíntota vertical ocurre cuando la función se acerca a **infinito** (o menos infinito) al acercarse a cierto valor x=a.\n",
    "\n",
    "$\\lim_{x \\to -a }f(x) = \\pm \\infty\\ \\ y\\ \\lim_{x \\to a}f(x) = \\pm \\infty  $\n",
    "\n",
    "- Asíntota oblicua es la recta con una **pendiente diferente de cero** a la que una función se aproxima indefinidamente cuando x tiende a infinito o menos infinito\n",
    "\n",
    "    - Una función racional f(x) = P(x)/Q(x) tiene una asíntota oblicua si y solo si el grado del **numerador (P)** es **una unidad mayor** que el **denominador (Q)** \n",
    "    - Si existe una **asíntota horizontal, no habrá asíntota oblicua**\n",
    "\n",
    "Es de la forma: $ y = mx +n$\n",
    "\n",
    "1. $m = \\lim_{x \\to \\pm\\infty } [f(x)/x]$\n",
    "\n",
    "2. $n = \\lim_{x \\to \\pm\\infty } [f(x) - mx]$"
   ]
  },
  {
   "cell_type": "code",
   "execution_count": null,
   "id": "66c90962",
   "metadata": {},
   "outputs": [],
   "source": [
    "from sympy import oo\n",
    "f2 = x*x/(x + 1)"
   ]
  },
  {
   "cell_type": "markdown",
   "id": "cffe7c08",
   "metadata": {},
   "source": [
    "##### Asíntota horizontal"
   ]
  },
  {
   "cell_type": "code",
   "execution_count": null,
   "id": "ab6c737b",
   "metadata": {},
   "outputs": [
    {
     "name": "stdout",
     "output_type": "stream",
     "text": [
      "Límite en +oo = oo\n",
      "Límite en -oo = -oo\n"
     ]
    }
   ],
   "source": [
    "ahd = sp.limit(f2, x, oo)\n",
    "ahi = sp.limit(f2, x, -oo)\n",
    "print('Límite en +oo =',ahd)\n",
    "print('Límite en -oo =',ahi)\n",
    "\n",
    "# Como los límites no son un valor constante ( 1 , 5 ...), no existe asíntota horizontal"
   ]
  },
  {
   "cell_type": "markdown",
   "id": "26436874",
   "metadata": {},
   "source": [
    "##### Asíntota vertical\n",
    "Comprobamos asíntotas verticales en los puntos para los que no está definida la función"
   ]
  },
  {
   "cell_type": "code",
   "execution_count": null,
   "id": "e63b7a25",
   "metadata": {},
   "outputs": [
    {
     "name": "stdout",
     "output_type": "stream",
     "text": [
      "Limite en a=-1 por la derecha =  oo\n",
      "Limite en a=-1 por la izquierda =  -oo\n"
     ]
    }
   ],
   "source": [
    "avd = sp.limit(f2, x, -1,'+')\n",
    "avi = sp.limit(f2, x, -1,'-')\n",
    "print('Limite en a=-1 por la derecha = ',avd)\n",
    "print('Limite en a=-1 por la izquierda = ',avi)\n",
    "# Como ambos límites dan ±∞ , existe asíntota vertical en ese punto ( -1 )"
   ]
  },
  {
   "cell_type": "markdown",
   "id": "948c9f21",
   "metadata": {},
   "source": [
    "##### Asíntota oblicua"
   ]
  },
  {
   "cell_type": "code",
   "execution_count": null,
   "id": "9248f429",
   "metadata": {},
   "outputs": [
    {
     "name": "stdout",
     "output_type": "stream",
     "text": [
      "aomd =  1\n",
      "aond =  -1\n",
      "aomi =  1\n",
      "aoni =  -1\n"
     ]
    }
   ],
   "source": [
    "\n",
    "aomd = sp.limit(f2/x, x, oo)          # Pendiente de la asíntota oblicua por la derecha     \n",
    "print('aomd = ',aomd)\n",
    "aond = sp.limit(f2 - aomd*x, x, oo)   # n de la asíntota oblicua por la derecha\n",
    "print('aond = ',aond) \n",
    "\n",
    "\n",
    "\n",
    "aomi = sp.limit(f2/x, x, -oo)         # Pendiente de la asíntota oblicua por la izquierda  \n",
    "print('aomi = ',aomi)\n",
    "\n",
    "aoni = sp.limit(f2 - aomi*x, x, -oo)  # n de la asíntota oblicua por la derecha\n",
    "print('aoni = ',aoni)\n",
    "\n",
    "# Como ambas m y n son iguales, hay una sola asíntota oblicua ( y = x -1 )"
   ]
  }
 ],
 "metadata": {
  "kernelspec": {
   "display_name": "Python 3",
   "language": "python",
   "name": "python3"
  },
  "language_info": {
   "codemirror_mode": {
    "name": "ipython",
    "version": 3
   },
   "file_extension": ".py",
   "mimetype": "text/x-python",
   "name": "python",
   "nbconvert_exporter": "python",
   "pygments_lexer": "ipython3",
   "version": "3.12.11"
  }
 },
 "nbformat": 4,
 "nbformat_minor": 5
}
