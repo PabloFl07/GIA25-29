{
 "cells": [
  {
   "cell_type": "code",
   "execution_count": 3,
   "id": "cf04b0ea",
   "metadata": {},
   "outputs": [],
   "source": [
    "import sympy as sp\n",
    "import numpy as np\n"
   ]
  },
  {
   "cell_type": "code",
   "execution_count": 4,
   "id": "5fb17dc2",
   "metadata": {},
   "outputs": [],
   "source": [
    "x = sp.Symbol(\"x\", real=True)"
   ]
  },
  {
   "cell_type": "markdown",
   "id": "1828a8e2",
   "metadata": {},
   "source": [
    "##### Dominios\n",
    "- Para las racionales, calculamos los valores para los que la función no está definida, el resto es el dominio.\n",
    "\n",
    "- En funciones cuyos dominios son intervalos, calculamos la condición correspondiente, el resultado es el dominio"
   ]
  },
  {
   "cell_type": "code",
   "execution_count": null,
   "id": "74c5d3a3",
   "metadata": {},
   "outputs": [],
   "source": [
    "f1 = (x -1) / (x + 1)   # Racional ( Denominador ≠ 0 )\n",
    "\n",
    "f2 = sp.sqrt(x + 3)     # Radical ( Lo de dentro ≥ 0 )\n",
    "\n",
    "f3 = sp.log(x + 3)      # Logarítmica ( Lo de dentro > 0)\n",
    " \n",
    "\n",
    "dom = sp.solve( x+1 , x )  # Valores para los que la función no está definida\n",
    "display(dom)\n",
    "\n",
    "dom = sp.solve( x+3 >= 0, x )  # Valores para los que la función está definida\n",
    "display(dom)\n",
    "        \n",
    "dom = sp.solve( x+3 > 0, x )  # Valores para los que la función está definida\n",
    "display(dom)"
   ]
  },
  {
   "cell_type": "markdown",
   "id": "5122f29e",
   "metadata": {},
   "source": [
    "##### Ejercicio 2"
   ]
  },
  {
   "cell_type": "code",
   "execution_count": null,
   "id": "74981de0",
   "metadata": {},
   "outputs": [],
   "source": [
    "from sympy.calculus.util import continuous_domain       # Funcion que calcula el dominio directamente \n",
    "funcs = { # Diccionario | Asigna un valor ( la función ) a una clave ( f1 , f2 , f3 ...)\n",
    "    \"f1\" : sp.sqrt(x**2 -9) ,\n",
    "    \"f2\" : (x**2 +1) / (x**2 -1) ,\n",
    "    \"f3\" : sp.sin((x+3)/(x-3)),\n",
    "    \"f4\" : sp.sqrt(x**2 - 2*x -3),\n",
    "    \"f5\" : sp.log(sp.root((x**2 +x +3) / (x**2 +1), 3) -1),\n",
    "    \"f6\" : sp.acos((x + 2) / (x**2 + 1))\n",
    "}\n",
    "# Con `funcs[f]` accedemos al valor correspondiente a cada clave, a medida que avanza el bucle\n",
    "for f in funcs:\n",
    "    display(\"Dominio de la función:\",  funcs[f]) \n",
    "    display(continuous_domain(funcs[f] , x , sp.Reals)) # ( expresión , variable, rango ( Reales, Naturales ...)\n"
   ]
  },
  {
   "cell_type": "markdown",
   "id": "7fb0d7e2",
   "metadata": {},
   "source": [
    "##### Crecimiento y decrecimiento\n"
   ]
  },
  {
   "cell_type": "code",
   "execution_count": 34,
   "id": "43eabb95",
   "metadata": {},
   "outputs": [
    {
     "name": "stdout",
     "output_type": "stream",
     "text": [
      "-3/4 < x\n",
      "x < -3/4\n"
     ]
    }
   ],
   "source": [
    "f = 2 * x**2 + 3*x -4\n",
    "\n",
    "dx = sp.diff(f , x )            # Calculamos la derivada de la función\n",
    "\n",
    "crec = sp.solve(dx > 0 , x)     # Valores para los que la derivada es positiva ( f crece )\n",
    "decrec = sp.solve(dx < 0, x)    # Valores para los que la derivada es negativa ( f decrece )\n",
    "\n",
    "print(crec)                     # Intervalos de crecimiento\n",
    "print(decrec)                   # Intervalos de decrecimiento"
   ]
  },
  {
   "cell_type": "markdown",
   "id": "31964a9e",
   "metadata": {},
   "source": [
    "##### Ejercicio 3"
   ]
  },
  {
   "cell_type": "code",
   "execution_count": 39,
   "id": "4d535984",
   "metadata": {},
   "outputs": [
    {
     "data": {
      "text/plain": [
       "'Intervalos de la función: '"
      ]
     },
     "metadata": {},
     "output_type": "display_data"
    },
    {
     "data": {
      "text/latex": [
       "$\\displaystyle x + 2$"
      ],
      "text/plain": [
       "x + 2"
      ]
     },
     "metadata": {},
     "output_type": "display_data"
    },
    {
     "name": "stdout",
     "output_type": "stream",
     "text": [
      "Crecimiento:  []\n",
      "Decrecimiento:  []\n"
     ]
    },
    {
     "data": {
      "text/plain": [
       "'Intervalos de la función: '"
      ]
     },
     "metadata": {},
     "output_type": "display_data"
    },
    {
     "data": {
      "text/latex": [
       "$\\displaystyle 3 - x^{2}$"
      ],
      "text/plain": [
       "3 - x**2"
      ]
     },
     "metadata": {},
     "output_type": "display_data"
    },
    {
     "name": "stdout",
     "output_type": "stream",
     "text": [
      "Crecimiento:  x < 0\n",
      "Decrecimiento:  0 < x\n"
     ]
    },
    {
     "data": {
      "text/plain": [
       "'Intervalos de la función: '"
      ]
     },
     "metadata": {},
     "output_type": "display_data"
    },
    {
     "data": {
      "text/latex": [
       "$\\displaystyle e^{x} + 1$"
      ],
      "text/plain": [
       "exp(x) + 1"
      ]
     },
     "metadata": {},
     "output_type": "display_data"
    },
    {
     "name": "stdout",
     "output_type": "stream",
     "text": [
      "Crecimiento:  []\n",
      "Decrecimiento:  []\n"
     ]
    },
    {
     "data": {
      "text/plain": [
       "'Intervalos de la función: '"
      ]
     },
     "metadata": {},
     "output_type": "display_data"
    },
    {
     "data": {
      "text/latex": [
       "$\\displaystyle \\frac{\\log{\\left(x^{2} - 4 \\right)}}{\\log{\\left(10 \\right)}}$"
      ],
      "text/plain": [
       "log(x**2 - 4)/log(10)"
      ]
     },
     "metadata": {},
     "output_type": "display_data"
    },
    {
     "name": "stdout",
     "output_type": "stream",
     "text": [
      "Crecimiento:  (2 < x) | ((-2 < x) & (x < 0))\n",
      "Decrecimiento:  (x < -2) | ((0 < x) & (x < 2))\n"
     ]
    },
    {
     "data": {
      "text/plain": [
       "'Intervalos de la función: '"
      ]
     },
     "metadata": {},
     "output_type": "display_data"
    },
    {
     "data": {
      "text/latex": [
       "$\\displaystyle {0.5}^{x}$"
      ],
      "text/plain": [
       "0.5**x"
      ]
     },
     "metadata": {},
     "output_type": "display_data"
    },
    {
     "name": "stdout",
     "output_type": "stream",
     "text": [
      "Crecimiento:  []\n",
      "Decrecimiento:  []\n"
     ]
    },
    {
     "data": {
      "text/plain": [
       "'Intervalos de la función: '"
      ]
     },
     "metadata": {},
     "output_type": "display_data"
    },
    {
     "data": {
      "text/latex": [
       "$\\displaystyle 10^{x}$"
      ],
      "text/plain": [
       "10**x"
      ]
     },
     "metadata": {},
     "output_type": "display_data"
    },
    {
     "name": "stdout",
     "output_type": "stream",
     "text": [
      "Crecimiento:  []\n",
      "Decrecimiento:  []\n"
     ]
    }
   ],
   "source": [
    "funcs = {\n",
    "    \"f1\" : x + 2, # Al calcular los intervalos de esta función con este método da un resultado \"inesperado\"...\n",
    "    \"f2\" : -x**2 + 3,\n",
    "    \"f3\" : sp.E**x+1,\n",
    "    \"f4\" : sp.log(x**2 - 4, 10),\n",
    "    \"f5\" : (1/2)**x,\n",
    "    \"f6\" : 10**x\n",
    "}\n",
    "\n",
    "for f in funcs:\n",
    "    dx = sp.diff(funcs[f],x)\n",
    "    display(\"Intervalos de la función: \", funcs[f])\n",
    "    print(\"Crecimiento: \", sp.solve(dx > 0 , x))\n",
    "    print(\"Decrecimiento: \", sp.solve(dx < 0, x))  "
   ]
  },
  {
   "cell_type": "markdown",
   "id": "8281ed68",
   "metadata": {},
   "source": [
    "##### Simetría"
   ]
  },
  {
   "cell_type": "markdown",
   "id": "c979e7e4",
   "metadata": {},
   "source": [
    "###### Opción 1\n",
    "Calculamos $f(-x)$ y $-f(-x)$ y comprobamos si es igual a $f(x)$"
   ]
  },
  {
   "cell_type": "code",
   "execution_count": null,
   "id": "ffd9086e",
   "metadata": {},
   "outputs": [],
   "source": [
    "f = x**2                     # f(x)\n",
    "\n",
    "f2 = funcs[f].subs({x: -x})  # f(-x)\n",
    "\n",
    "if f == f2:                  # f(x) = f(-x)\n",
    "    print(\"Simetría par\")    \n",
    "elif f == -f2:               # f(x) = -f(-x)\n",
    "    print(\"Simetría impar\")"
   ]
  },
  {
   "cell_type": "markdown",
   "id": "f92e6b1b",
   "metadata": {},
   "source": [
    "###### Opción 2\n",
    "Comprobamos $f(-x) - f(x) = 0 $ || $f(-x) + f(x) = 0$"
   ]
  },
  {
   "cell_type": "code",
   "execution_count": null,
   "id": "cc35d47b",
   "metadata": {},
   "outputs": [],
   "source": [
    "if f2 - f == 0:                 # f(-x) - f(x) = 0\n",
    "    print(\"Simetría par\")    \n",
    "elif f2 + f == 0:               # f(-x) + f(x) = 0\n",
    "    print(\"Simetría impar\")"
   ]
  },
  {
   "cell_type": "markdown",
   "id": "e6aa3233",
   "metadata": {},
   "source": [
    "##### Ejercicio 4"
   ]
  },
  {
   "cell_type": "code",
   "execution_count": null,
   "id": "6415572f",
   "metadata": {},
   "outputs": [],
   "source": [
    "funcs = {\n",
    "    \"f1\" : 3*x - x**2 ,\n",
    "    \"f2\" : 2*x**3 - x ,\n",
    "    \"f3\" : (1/2)*x**4 + sp.E**(x**2) + 5,\n",
    "    \"f4\" : (sp.tan(x) + sp.sin(x)) / sp.cos(x**2),\n",
    "    \"f5\" : (sp.cos(2*x) - sp.sin(x)) / (x**2 * sp.cos(x)),\n",
    "    \"f6\" : (x**4 * sp.sin(x)**3) / sp.tan(x),\n",
    "    \"f7\" : sp.Piecewise(\n",
    "        (x * (x + 1)**2 , x > 0),\n",
    "        (-x * (x + 1)**2 , x< 0),\n",
    "    ),\n",
    "    \"f8\" : (x**4 - sp.cos(x)) / (x**2 - sp.sin(x))\n",
    "}\n",
    "\n",
    "\n",
    "for f in funcs:\n",
    "    display(\" Simetría de la función: \", funcs[f]) # Sustituímos la x por -x | Calculamos f(-x)\n",
    "\n",
    "    f2 = funcs[f].subs({x: -x})\n",
    "# Hay que usar esta condición porque otras dan falsos positivos/negativos \n",
    "    if sp.simplify(f2 - funcs[f]) == 0:      # Simetría par | f(-x) - f(x) = 0\n",
    "        print(\"[+] Simetría par\")\n",
    "    elif sp.simplify(f2 + funcs[f]) == 0:    # Simetría impar | f(-x) + f(x) = 0\n",
    "        print(\"[-] Simetría impar\")\n",
    "    else:\n",
    "        print(\"[!] La función no es simétrica\")"
   ]
  },
  {
   "cell_type": "markdown",
   "id": "f46197ea",
   "metadata": {},
   "source": [
    "##### Ejercicio 5\n",
    "Una función es periódica si $f(x + T) = f(x)$ . Sin embargo, calculamos el periodo con una función concreta.\n"
   ]
  },
  {
   "cell_type": "code",
   "execution_count": null,
   "id": "19d3c69b",
   "metadata": {},
   "outputs": [],
   "source": [
    "funcs = {\n",
    "    \"f1\" : sp.sin(3*x),\n",
    "    \"f2\" : sp.cos(x-2),\n",
    "    \"f3\" : sp.cos(x) -2,\n",
    "    \"f4\" : sp.tan(x - (sp.pi/2)),\n",
    "    \"f5\" : 4*sp.sin(x) + 3*sp.cos(2*x) - 5*sp.sin(sp.Rational(2,5)*x), # Importante usar sp.Rational\n",
    "}\n",
    "\n",
    "for f in funcs:\n",
    "    T = sp.periodicity( funcs[f], x) # Periodo de la función\n",
    "    display(\"Periodicidad de la función\", funcs[f])\n",
    "    display(T)\n"
   ]
  },
  {
   "cell_type": "markdown",
   "id": "bba102e7",
   "metadata": {},
   "source": [
    "##### Composición de funciones\n",
    "$f ◦ g = f(g(x))$\n",
    "\n",
    "$g ◦ f = g(f(x))$ \n",
    "\n",
    "\n",
    "$ Dom(f ◦ g) = \\{ x ∈ Dom(f) / f(x) ∈ Dom(g) \\}  $"
   ]
  },
  {
   "cell_type": "code",
   "execution_count": null,
   "id": "e4f4e687",
   "metadata": {},
   "outputs": [],
   "source": [
    "# Definimos las expresiones\n",
    "f = (6*x) / (x**2 - 9)\n",
    "g = sp.sqrt(3*x)\n",
    "\n",
    "# Las transformamos en funciones para facilitar la composición\n",
    "f = sp.Lambda(x , f)\n",
    "g = sp.Lambda(x , g)\n",
    "\n",
    "# Las componemos | f ◦ g\n",
    "c1 = f(g(12))\n",
    "c2 = f(g(x))\n",
    "\n",
    "# Dominio sin uso de continuous_domain: 1º Obtenemos la expresión compuesta | 2º Calculamos el dominio de esa función\n"
   ]
  },
  {
   "cell_type": "markdown",
   "id": "709b5475",
   "metadata": {},
   "source": [
    "##### Ejercicio 6\n"
   ]
  },
  {
   "cell_type": "code",
   "execution_count": null,
   "id": "8bef8e6b",
   "metadata": {},
   "outputs": [],
   "source": [
    "from sympy.calculus.util import continuous_domain\n",
    "\n",
    "f = (6*x) / (x**2 - 9)\n",
    "g = sp.sqrt(3*x)\n",
    "\n",
    "f = sp.Lambda(x , f)\n",
    "g = sp.Lambda(x , g)\n",
    "\n",
    "\n",
    "c1 = f(g(12))\n",
    "c2 = f(g(x))    # f ◦ g\n",
    "\n",
    "dom = continuous_domain(c2 , x , sp.Reals)\n",
    "\n",
    "c3 = g(f(x))\n",
    "\n",
    "dom2 = continuous_domain(c3 , x , sp.Reals)\n",
    "\n",
    "display(\"(f ◦ g)(12): \", c1)\n",
    "display(\"(f ◦ g)(x): \",c2)\n",
    "\n",
    "display(\"Dominio de f ◦ g: \", dom)\n",
    "\n",
    "display(\"(g ◦ f)(x): \", c3)\n",
    "display(\"Dominio de g ◦ f: \", dom2)\n",
    "\n",
    "if c2 == c3:\n",
    "    print(\"La composición es conmutativa\")\n",
    "else: print(\"La composición no es conmutativa\")"
   ]
  },
  {
   "cell_type": "markdown",
   "id": "4be3ec7d",
   "metadata": {},
   "source": [
    "##### Ejercicio 7\n"
   ]
  },
  {
   "cell_type": "code",
   "execution_count": null,
   "id": "2e2f35be",
   "metadata": {},
   "outputs": [],
   "source": [
    "f = (4*x**2 + 1) / (x - 1)\n",
    "g = (x - 1) / x**2\n",
    "\n",
    "f = sp.Lambda(x , f)\n",
    "g = sp.Lambda(x , g)\n",
    "\n",
    "c = 0\n",
    "\n",
    "if f(g(1)) == -1 and g(f(1)) == 0:\n",
    "    c += 1\n",
    "    print(\"La opción A es correcta\")\n",
    "\n",
    "if f(g(2)) == sp.Rational( -5 , 3) and g(f(0)) == -2:\n",
    "    c +=1\n",
    "    print(\"La opción B es correcta\")\n",
    "\n",
    "if f(g(-1)) == sp.Rational(17 , 3) and g(f(-1)) == g(sp.Rational(5, 2)):\n",
    "    c+=1\n",
    "    print(\"La opción C es correcta\")\n",
    "\n",
    "if c == 0:\n",
    "    print(\"Ninguna es correcta\")"
   ]
  },
  {
   "cell_type": "markdown",
   "id": "0bcd53d5",
   "metadata": {},
   "source": [
    "##### Ejercicio 8\n",
    "!!! Cuando tenemos que componer dos funciones con incógnitas distintas ( En este caso, a(r) y r(t) ), **tenemos que componer nosotros las funciones**."
   ]
  },
  {
   "cell_type": "code",
   "execution_count": null,
   "id": "eff6ac1b",
   "metadata": {},
   "outputs": [],
   "source": [
    "t = sp.Symbol(\"t\")\n",
    "\n",
    "# r = 18 / (2*t + 3)\n",
    "a = sp.pi * (18 / (2*t + 3))**2  # Función ya compuesta | a ◦ r = a(r(t))\n",
    "\n",
    "display(\"a ◦ r: \", a)\n",
    "\n",
    "a = sp.Lambda(t , a) \n",
    "\n",
    "c = a(3)  # Prueba con 3 minutos\n",
    "\n",
    "display(c)"
   ]
  },
  {
   "cell_type": "markdown",
   "id": "de270264",
   "metadata": {},
   "source": [
    "##### Ejercicio 9\n"
   ]
  },
  {
   "cell_type": "code",
   "execution_count": null,
   "id": "5183e895",
   "metadata": {},
   "outputs": [],
   "source": [
    "a = sp.Symbol(\"a\")\n",
    "\n",
    "# x = 100 + sp.sqrt(a/12)\n",
    "n = 10 + sp.Rational(5,100)*(100 + sp.sqrt(a/12))  # n ◦ x\n",
    "\n",
    "display(\"n ◦ x: \", n)\n",
    "\n",
    "\n",
    "# b)\n",
    "n = sp.Lambda(a, n)\n",
    "display(n(4800))\n",
    "\n",
    "# c)\n",
    "a = 12 * (x-100)**2\n",
    "display(a)"
   ]
  },
  {
   "cell_type": "markdown",
   "id": "c50b0045",
   "metadata": {},
   "source": [
    "##### Ejercicio 10\n",
    "Lo calculamos calculando la monotonía de la función, la cual averiguamos con el **signo de la derivada**, si es estrictamente creciente o estrictamente decreciente, es inyectiva.\n",
    "Usamos `solveset` porque facilita el manejo de condiciones cuando forzamos a nuestras variables simbólicas a ser Reales"
   ]
  },
  {
   "cell_type": "code",
   "execution_count": null,
   "id": "38bd40cf",
   "metadata": {},
   "outputs": [],
   "source": [
    "f = x*2\n",
    "\n",
    "df = sp.diff(f, x)  # Derivada de la función\n",
    "\n",
    "crec = sp.solveset(df > 0, x, sp.Reals)             # Si crece, su decrecimiento será ∅\n",
    "decrec = sp.solveset(df < 0, x, domain=sp.Reals)    # Si decrece, su crecimiento será ∅\n",
    "\n",
    "display(crec)   # Intervalo donde crece\n",
    "display(decrec) # Intervalo donde decrece\n",
    "\n",
    "if crec == sp.EmptySet or decrec == sp.EmptySet:  # Que uno sea ∅ , implica que en ningún punto es creciente/decreciente, por lo que solo es uno a la vez ( estricto )\n",
    "    print(\"[!] Es inyectiva\")\n",
    "else:\n",
    "    print(\"[!] No es inyectiva \")\n"
   ]
  },
  {
   "cell_type": "markdown",
   "id": "73c3f63d",
   "metadata": {},
   "source": [
    "##### Comprobación de inyección usando la definición\n",
    "\n",
    "$si\\ f(a)=f(b),\\ entonces\\ a=b.$"
   ]
  },
  {
   "cell_type": "code",
   "execution_count": 31,
   "id": "61ff4609",
   "metadata": {},
   "outputs": [
    {
     "data": {
      "text/latex": [
       "$\\displaystyle b$"
      ],
      "text/plain": [
       "b"
      ]
     },
     "metadata": {},
     "output_type": "display_data"
    }
   ],
   "source": [
    "k = 1 / ( 1 + sp.E**(-x))\n",
    "\n",
    "a , b = sp.symbols(\"a b\")  # Declaramos dos variables que actuarán como números cualesquiera\n",
    "\n",
    "sol = sp.solve(k.subs(x, a) - k.subs({x: b}), a)  # Resolvemos la ecuación \n",
    "\n",
    "soluciones = [sol for sol in sol if not sol.has(sp.I)] # Eliminamos las soluciones complejas\n",
    "\n",
    "\n",
    "# FORZADO DE SIMPLIFICACIÓN !!!!!!!\n",
    "solucion = soluciones[0]\n",
    "solucion = sp.expand_log(solucion, force=True)\n",
    "solucion = sp.powsimp(solucion, force=True)\n",
    "solucion = sp.simplify(solucion)\n",
    "display(solucion)\n"
   ]
  },
  {
   "cell_type": "markdown",
   "id": "fb55c12b",
   "metadata": {},
   "source": [
    "##### Comprobación de si dos funciones son inversas\n",
    "Lo comprobamos : $f ◦ g = x$ y $g ◦ f = x$"
   ]
  },
  {
   "cell_type": "code",
   "execution_count": 5,
   "id": "68229967",
   "metadata": {},
   "outputs": [
    {
     "data": {
      "text/plain": [
       "'Función sin simplificar: '"
      ]
     },
     "metadata": {},
     "output_type": "display_data"
    },
    {
     "data": {
      "text/latex": [
       "$\\displaystyle \\frac{-1 + \\frac{x + 1}{1 - x}}{1 + \\frac{x + 1}{1 - x}}$"
      ],
      "text/plain": [
       "(-1 + (x + 1)/(1 - x))/(1 + (x + 1)/(1 - x))"
      ]
     },
     "metadata": {},
     "output_type": "display_data"
    },
    {
     "data": {
      "text/plain": [
       "'Función simplificada: '"
      ]
     },
     "metadata": {},
     "output_type": "display_data"
    },
    {
     "data": {
      "text/latex": [
       "$\\displaystyle x$"
      ],
      "text/plain": [
       "x"
      ]
     },
     "metadata": {},
     "output_type": "display_data"
    },
    {
     "name": "stdout",
     "output_type": "stream",
     "text": [
      "f y g son inversas entre sí\n"
     ]
    }
   ],
   "source": [
    "f = (x-1) / (x+1)\n",
    "g = (x+1) / (1-x)\n",
    "# Preparamos las expresiones para componerlas\n",
    "f = sp.Lambda(x , f)\n",
    "g = sp.Lambda(x , g)\n",
    "\n",
    "display(\"Función sin simplificar: \", f(g(x)))                # Importante simplificar\n",
    "display(\"Función simplificada: \" ,sp.simplify(f(g(x))))                     \n",
    "\n",
    "\n",
    "if sp.simplify(f(g(x))) == x and sp.simplify(g(f(x))) == x:  # Componemos ambas funciones y verificamos que dan x\n",
    "    print(\"f y g son inversas entre sí\")"
   ]
  },
  {
   "cell_type": "markdown",
   "id": "e37cf5f7",
   "metadata": {},
   "source": [
    "##### Ejercicio 12"
   ]
  },
  {
   "cell_type": "code",
   "execution_count": null,
   "id": "274c7902",
   "metadata": {},
   "outputs": [],
   "source": [
    "f = (x-1) / (x+1)\n",
    "g = (x+1) / (1-x)\n",
    "\n",
    "f = sp.Lambda(x , f)\n",
    "g = sp.Lambda(x , g)\n",
    "\n",
    "display(\"Función sin simplificar: \", f(g(x)))                \n",
    "display(\"Función simplificada: \" ,sp.simplify(f(g(x))))                     \n",
    "\n",
    "\n",
    "if sp.simplify(f(g(x))) == x and sp.simplify(g(f(x))) == x: \n",
    "    print(\"[+] f y g son inversas entre sí\")\n"
   ]
  },
  {
   "cell_type": "markdown",
   "id": "4e4ae0e8",
   "metadata": {},
   "source": [
    "##### Cálculo de inversas\n",
    "- Escribe la función: \n",
    "\n",
    "$y=f(x)$\n",
    "\n",
    "- Intercambia las variables:\n",
    "\n",
    "$x↔y$\n",
    "\n",
    "- Despeja $y$\n",
    "\n",
    "- Cambia $y$ por $f⁻¹(x)$\n",
    "\n",
    "OJO: Este método devuelve la función en función de y, aún queda intercambiarla por x "
   ]
  },
  {
   "cell_type": "code",
   "execution_count": 6,
   "id": "00927f77",
   "metadata": {},
   "outputs": [
    {
     "data": {
      "text/plain": [
       "'Función inversa: '"
      ]
     },
     "metadata": {},
     "output_type": "display_data"
    },
    {
     "data": {
      "text/latex": [
       "$\\displaystyle \\frac{- x - 1}{x - 1}$"
      ],
      "text/plain": [
       "(-x - 1)/(x - 1)"
      ]
     },
     "metadata": {},
     "output_type": "display_data"
    }
   ],
   "source": [
    "f = (x-1) / (x+1)\n",
    "y = sp.Symbol(\"y\")\n",
    "\n",
    "inv = sp.solve(f - y, x) # Resolvemos f(x) - y = 0 porque f(x) = y\n",
    "\n",
    "display(\"Función inversa: \", sp.simplify(inv[0].subs({y:x}))) # Solve devuelve una lista, con [i] mostramos el elemento siendo i el índice.\n",
    "                                                  # También simplificamos por si acaso"
   ]
  },
  {
   "cell_type": "markdown",
   "id": "1b8b737d",
   "metadata": {},
   "source": [
    "##### Ejercicio 13"
   ]
  },
  {
   "cell_type": "code",
   "execution_count": null,
   "id": "c49883cb",
   "metadata": {},
   "outputs": [],
   "source": [
    "from sympy.calculus.util import continuous_domain\n",
    "f = 5**x -2\n",
    "y = sp.Symbol('y')\n",
    "\n",
    "inv = sp.solve(f - y, x) # Calculamos la inversa ( Ojo, crea una \"lista\")\n",
    "\n",
    "dom = continuous_domain(inv[0].subs({y:x}) , x , sp.Reals)  \n",
    "\n",
    "display(\"Función inversa: \", inv[0].subs({y:x})) # Sacamos el único elemento de la lista\n",
    "\n",
    "display(dom)"
   ]
  },
  {
   "cell_type": "markdown",
   "id": "a88aa67b",
   "metadata": {},
   "source": [
    "#### Ejercicio 14"
   ]
  },
  {
   "cell_type": "code",
   "execution_count": null,
   "id": "9b4c4cd4",
   "metadata": {},
   "outputs": [],
   "source": [
    "f = sp.E**(x**3 +1) \n",
    "\n",
    "# a)\n",
    "inv = sp.solve(f - y, x)\n",
    "display(\"Existe inversa: \", sp.simplify(inv[2].subs({y:x})))  # Vemos 3 soluciones, pero solo una es Real | Además, es mejor simplificarla \n",
    "\n",
    "# b , c , d\n",
    "p = sp.log(x**3 + 1)\n",
    "q = (sp.log(x)-1)**(sp.Rational(1,3))\n",
    "r = 1 / sp.E**(x**3 +1)\n",
    "\n",
    "\n",
    "if sp.simplify(inv[2].subs({y:x})) == p:\n",
    "    print(\"Opción A\")\n",
    "elif sp.simplify(inv[2].subs({y:x})) == q:\n",
    "    print(\"Opción B\")\n",
    "elif sp.simplify(inv[2].subs({y:x})) == r:\n",
    "    print(\"Opción C\")\n"
   ]
  },
  {
   "cell_type": "markdown",
   "id": "ce183d4c",
   "metadata": {},
   "source": [
    "##### Ejercicio 15"
   ]
  },
  {
   "cell_type": "code",
   "execution_count": 7,
   "id": "093baa05",
   "metadata": {},
   "outputs": [
    {
     "name": "stdout",
     "output_type": "stream",
     "text": [
      "\n",
      "==================================================\n",
      " f1: x**3 + 5\n",
      "==================================================\n"
     ]
    },
    {
     "data": {
      "text/plain": [
       "'Derivada:'"
      ]
     },
     "metadata": {},
     "output_type": "display_data"
    },
    {
     "data": {
      "text/latex": [
       "$\\displaystyle 3 x^{2}$"
      ],
      "text/plain": [
       "3*x**2"
      ]
     },
     "metadata": {},
     "output_type": "display_data"
    },
    {
     "data": {
      "text/plain": [
       "'Inversa:'"
      ]
     },
     "metadata": {},
     "output_type": "display_data"
    },
    {
     "data": {
      "text/latex": [
       "$\\displaystyle \\sqrt[3]{x - 5}$"
      ],
      "text/plain": [
       "(x - 5)**(1/3)"
      ]
     },
     "metadata": {},
     "output_type": "display_data"
    },
    {
     "name": "stdout",
     "output_type": "stream",
     "text": [
      "[+] f y f⁻¹ son efectivamente inversas entre sí\n",
      "\n",
      "==================================================\n",
      " f2: sin(2*x - 7)\n",
      "==================================================\n"
     ]
    },
    {
     "data": {
      "text/plain": [
       "'Derivada:'"
      ]
     },
     "metadata": {},
     "output_type": "display_data"
    },
    {
     "data": {
      "text/latex": [
       "$\\displaystyle 2 \\cos{\\left(2 x - 7 \\right)}$"
      ],
      "text/plain": [
       "2*cos(2*x - 7)"
      ]
     },
     "metadata": {},
     "output_type": "display_data"
    },
    {
     "name": "stdout",
     "output_type": "stream",
     "text": [
      "[✗] No tiene inversa ( no es inyectiva )\n",
      "\n",
      "==================================================\n",
      " f3: exp(2*x)\n",
      "==================================================\n"
     ]
    },
    {
     "data": {
      "text/plain": [
       "'Derivada:'"
      ]
     },
     "metadata": {},
     "output_type": "display_data"
    },
    {
     "data": {
      "text/latex": [
       "$\\displaystyle 2 e^{2 x}$"
      ],
      "text/plain": [
       "2*exp(2*x)"
      ]
     },
     "metadata": {},
     "output_type": "display_data"
    },
    {
     "data": {
      "text/plain": [
       "'Inversa:'"
      ]
     },
     "metadata": {},
     "output_type": "display_data"
    },
    {
     "data": {
      "text/latex": [
       "$\\displaystyle \\frac{\\log{\\left(x \\right)}}{2}$"
      ],
      "text/plain": [
       "log(x)/2"
      ]
     },
     "metadata": {},
     "output_type": "display_data"
    },
    {
     "name": "stdout",
     "output_type": "stream",
     "text": [
      "[+] f y f⁻¹ son efectivamente inversas entre sí\n",
      "\n",
      "==================================================\n",
      " f4: exp(x) + 1/5\n",
      "==================================================\n"
     ]
    },
    {
     "data": {
      "text/plain": [
       "'Derivada:'"
      ]
     },
     "metadata": {},
     "output_type": "display_data"
    },
    {
     "data": {
      "text/latex": [
       "$\\displaystyle e^{x}$"
      ],
      "text/plain": [
       "exp(x)"
      ]
     },
     "metadata": {},
     "output_type": "display_data"
    },
    {
     "data": {
      "text/plain": [
       "'Inversa:'"
      ]
     },
     "metadata": {},
     "output_type": "display_data"
    },
    {
     "data": {
      "text/latex": [
       "$\\displaystyle \\log{\\left(x - \\frac{1}{5} \\right)}$"
      ],
      "text/plain": [
       "log(x - 1/5)"
      ]
     },
     "metadata": {},
     "output_type": "display_data"
    },
    {
     "name": "stdout",
     "output_type": "stream",
     "text": [
      "[+] f y f⁻¹ son efectivamente inversas entre sí\n",
      "\n",
      "==================================================\n",
      " f5: sqrt(2*x - 3)\n",
      "==================================================\n"
     ]
    },
    {
     "data": {
      "text/plain": [
       "'Derivada:'"
      ]
     },
     "metadata": {},
     "output_type": "display_data"
    },
    {
     "data": {
      "text/latex": [
       "$\\displaystyle \\frac{1}{\\sqrt{2 x - 3}}$"
      ],
      "text/plain": [
       "1/sqrt(2*x - 3)"
      ]
     },
     "metadata": {},
     "output_type": "display_data"
    },
    {
     "data": {
      "text/plain": [
       "'Inversa:'"
      ]
     },
     "metadata": {},
     "output_type": "display_data"
    },
    {
     "data": {
      "text/latex": [
       "$\\displaystyle \\frac{x^{2}}{2} + \\frac{3}{2}$"
      ],
      "text/plain": [
       "x**2/2 + 3/2"
      ]
     },
     "metadata": {},
     "output_type": "display_data"
    },
    {
     "name": "stdout",
     "output_type": "stream",
     "text": [
      "[+] f y f⁻¹ son efectivamente inversas entre sí\n",
      "\n",
      "==================================================\n",
      " f6: (x/2 + 1/2)**(1/3)\n",
      "==================================================\n"
     ]
    },
    {
     "data": {
      "text/plain": [
       "'Derivada:'"
      ]
     },
     "metadata": {},
     "output_type": "display_data"
    },
    {
     "data": {
      "text/latex": [
       "$\\displaystyle \\frac{1}{6 \\left(\\frac{x}{2} + \\frac{1}{2}\\right)^{\\frac{2}{3}}}$"
      ],
      "text/plain": [
       "1/(6*(x/2 + 1/2)**(2/3))"
      ]
     },
     "metadata": {},
     "output_type": "display_data"
    },
    {
     "data": {
      "text/plain": [
       "'Inversa:'"
      ]
     },
     "metadata": {},
     "output_type": "display_data"
    },
    {
     "data": {
      "text/latex": [
       "$\\displaystyle 2 x^{3} - 1$"
      ],
      "text/plain": [
       "2*x**3 - 1"
      ]
     },
     "metadata": {},
     "output_type": "display_data"
    },
    {
     "name": "stdout",
     "output_type": "stream",
     "text": [
      "[+] f y f⁻¹ son efectivamente inversas entre sí\n",
      "\n",
      "==================================================\n",
      " f7: (x**2 + 1)/x**2\n",
      "==================================================\n"
     ]
    },
    {
     "data": {
      "text/plain": [
       "'Derivada:'"
      ]
     },
     "metadata": {},
     "output_type": "display_data"
    },
    {
     "data": {
      "text/latex": [
       "$\\displaystyle \\frac{2}{x} - \\frac{2 \\left(x^{2} + 1\\right)}{x^{3}}$"
      ],
      "text/plain": [
       "2/x - 2*(x**2 + 1)/x**3"
      ]
     },
     "metadata": {},
     "output_type": "display_data"
    },
    {
     "name": "stdout",
     "output_type": "stream",
     "text": [
      "[✗] No tiene inversa ( no es inyectiva )\n"
     ]
    }
   ],
   "source": [
    "y = sp.Symbol(\"y\", reals=True, positive=True) # Añadir `positive=True` ayudó a arreglar el output de una función, considera usarlo si ves algo raro\n",
    "funcs = {\n",
    "    \"f1\": x**3 + 5,\n",
    "    \"f2\": sp.sin(2*x - 7),\n",
    "    \"f3\": sp.E**(x*2),  \n",
    "    \"f4\": sp.Rational(1,5) + sp.E**x,\n",
    "    \"f5\": sp.sqrt(2*x - 3),\n",
    "    \"f6\": sp.cbrt(((x+1)/2)),\n",
    "    \"f7\": (1 + x**2) / x**2\n",
    "}\n",
    "\n",
    "for f in funcs:\n",
    "    print(f\"\\n{'='*50}\")\n",
    "    print(f\" {f}: {funcs[f]}\")\n",
    "    print('='*50)\n",
    "    \n",
    "    df = sp.diff(funcs[f], x)  # Derivada de la función\n",
    "    display(\"Derivada:\", df)\n",
    "    \n",
    "    # Calculamos la monotonía \n",
    "    cm1 = sp.solveset(df >= 0, x, domain=sp.Reals)\n",
    "    cm2 = sp.solveset(df <  0, x, domain=sp.Reals)\n",
    "\n",
    "\n",
    "    if cm1 == sp.EmptySet or cm2 == sp.EmptySet:      \n",
    "        inv = sp.solve(funcs[f] - y, x, domain=sp.Reals)\n",
    "        inv_real= [sol for sol in inv if not sol.has(sp.I)] # Eliminamos soluciones Complejas\n",
    "\n",
    "        if len(inv_real) > 0:  # Si el cálculo devuelve varias inversas, algo va mal\n",
    "            inv_real = inv_real[0].subs({y:x})  # Dado que `solve` devuelve una lista, y con variable = y. Accedemos a su elemento y cambiamos la variable\n",
    "            display(\"Inversa:\", inv_real)\n",
    "            \n",
    "            f = sp.Lambda(x, funcs[f])\n",
    "            g = sp.Lambda(x, inv_real)\n",
    "            \n",
    "            # Composición de funciones para la comprobación de la inversa\n",
    "            comp1 = sp.simplify(f(g(x)))  \n",
    "            comp2 = sp.simplify(g(f(x)))\n",
    "\n",
    "            if comp1.subs({x:3}) == comp2.subs({x:3}):  # Porque lo compruebo así y no como en la explicación anterior? Mira la celda siguiente\n",
    "                print(\"[+] f y f⁻¹ son efectivamente inversas entre sí\")\n",
    "            else:\n",
    "                print(\"[✗] No se pudo verificar la composición\")\n",
    "    else:\n",
    "        print(\"[✗] No tiene inversa ( no es inyectiva )\")"
   ]
  },
  {
   "attachments": {
    "image.png": {
     "image/png": "[encoded data removed]"
    }
   },
   "cell_type": "markdown",
   "id": "16d17115",
   "metadata": {},
   "source": [
    "### ¿Por qué?\n",
    "Resulta que usando la forma habitual para comprobar si dos funciones son efectivamente inversas, Sympy decidía no simplificar las composiciones, regalandome algo como esto:\n",
    "\n",
    "![image.png](attachment:image.png)\n",
    "\n",
    "Y como son iguales, si sustituyo x por 3 debería dar lo mismo, y efectivamente funcionó."
   ]
  }
 ],
 "metadata": {
  "kernelspec": {
   "display_name": "Python 3",
   "language": "python",
   "name": "python3"
  },
  "language_info": {
   "codemirror_mode": {
    "name": "ipython",
    "version": 3
   },
   "file_extension": ".py",
   "mimetype": "text/x-python",
   "name": "python",
   "nbconvert_exporter": "python",
   "pygments_lexer": "ipython3",
   "version": "3.12.12"
  }
 },
 "nbformat": 4,
 "nbformat_minor": 5
}
