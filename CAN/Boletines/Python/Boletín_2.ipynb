{
 "cells": [
  {
   "cell_type": "markdown",
   "id": "57b95226",
   "metadata": {},
   "source": [
    "##### Ejercicio 3"
   ]
  },
  {
   "cell_type": "code",
   "execution_count": 2,
   "id": "84764e47",
   "metadata": {},
   "outputs": [],
   "source": [
    "import sympy as sp\n",
    "\n",
    "x = sp.Symbol(\"x\")"
   ]
  },
  {
   "cell_type": "code",
   "execution_count": 23,
   "id": "4f5a411e",
   "metadata": {},
   "outputs": [
    {
     "data": {
      "text/plain": [
       "'f(x): '"
      ]
     },
     "metadata": {},
     "output_type": "display_data"
    },
    {
     "data": {
      "text/latex": [
       "$\\displaystyle \\begin{cases} - x e^{- x} & \\text{for}\\: x < 0 \\\\x e^{- x} & \\text{otherwise} \\end{cases}$"
      ],
      "text/plain": [
       "Piecewise((-x*exp(-x), x < 0), (x*exp(-x), True))"
      ]
     },
     "metadata": {},
     "output_type": "display_data"
    },
    {
     "data": {
      "text/plain": [
       "\"f'(x): \""
      ]
     },
     "metadata": {},
     "output_type": "display_data"
    },
    {
     "data": {
      "text/latex": [
       "$\\displaystyle \\begin{cases} x e^{- x} - e^{- x} & \\text{for}\\: x < 0 \\\\- x e^{- x} + e^{- x} & \\text{otherwise} \\end{cases}$"
      ],
      "text/plain": [
       "Piecewise((x*exp(-x) - exp(-x), x < 0), (-x*exp(-x) + exp(-x), True))"
      ]
     },
     "metadata": {},
     "output_type": "display_data"
    },
    {
     "data": {
      "text/latex": [
       "$\\displaystyle 0$"
      ],
      "text/plain": [
       "0"
      ]
     },
     "metadata": {},
     "output_type": "display_data"
    },
    {
     "data": {
      "text/latex": [
       "$\\displaystyle 0$"
      ],
      "text/plain": [
       "0"
      ]
     },
     "metadata": {},
     "output_type": "display_data"
    },
    {
     "name": "stdout",
     "output_type": "stream",
     "text": [
      "x = 1 tiene un extremo\n",
      "x = 0 tiene un extremo\n"
     ]
    }
   ],
   "source": [
    "f = sp.Piecewise(\n",
    "    (-x /sp.E**x, x < 0),\n",
    "    (x /sp.E**x, x >= 0),\n",
    ")\n",
    "\n",
    "\n",
    "display(\"f(x): \",f)\n",
    "df = sp.diff(f , x)\n",
    "display(\"f'(x): \",df)\n",
    "\n",
    "extr = sp.solve(df , x)\n",
    "\n",
    "f1 = sp.Lambda(x , -x /sp.E**x)\n",
    "\n",
    "f2 = sp.Lambda(x , x /sp.E**x)\n",
    "\n",
    "# Como no es derivable en 0, tambien es un posible extremo\n",
    "\n",
    "p0 = sp.diff(f2(0),x,2)\n",
    "\n",
    "display(p0)\n",
    "\n",
    "p1 = sp.diff(f2(1),x,2)\n",
    "\n",
    "display(p1)\n",
    "\n",
    "if p1 == 0:\n",
    "    print(\"x = 1 tiene un extremo\")\n",
    "if p0 == 0:\n",
    "    print(\"x = 0 tiene un extremo\")"
   ]
  },
  {
   "cell_type": "markdown",
   "id": "6903bd26",
   "metadata": {},
   "source": [
    "##### Ejercicio 4"
   ]
  },
  {
   "cell_type": "code",
   "execution_count": null,
   "id": "99c55595",
   "metadata": {},
   "outputs": [
    {
     "data": {
      "text/plain": [
       "[]"
      ]
     },
     "metadata": {},
     "output_type": "display_data"
    },
    {
     "data": {
      "text/plain": [
       "'La función es decreciente en: '"
      ]
     },
     "metadata": {},
     "output_type": "display_data"
    },
    {
     "data": {
      "text/latex": [
       "$\\displaystyle \\left(-\\infty, 1\\right) \\cup \\left(1, \\infty\\right)$"
      ],
      "text/plain": [
       "Union(Interval.open(-oo, 1), Interval.open(1, oo))"
      ]
     },
     "metadata": {},
     "output_type": "display_data"
    }
   ],
   "source": [
    "g = (x+1)/(x-1)\n",
    "\n",
    "dg = sp.diff(g , x)\n",
    "\n",
    "crec = sp.solveset( dg > 0, x, domain=sp.Reals)\n",
    "decrec = sp.solveset( dg < 0 , x, domain=sp.Reals)\n",
    "\n",
    "if crec == sp.EmptySet:\n",
    "    display(\"La función es decreciente en: \", decrec)\n",
    "elif decrec == sp.EmptySet:\n",
    "    display(\"La función es creciente en: \", crec)\n",
    "else:\n",
    "    display(\"La función es decreciente en: \", decrec)\n",
    "    display(\"La función es creciente en: \", crec)"
   ]
  },
  {
   "cell_type": "markdown",
   "id": "34bc16c4",
   "metadata": {},
   "source": [
    "##### Ejercicio 7.1"
   ]
  },
  {
   "cell_type": "code",
   "execution_count": 34,
   "id": "adf41b34",
   "metadata": {},
   "outputs": [
    {
     "data": {
      "text/plain": [
       "'La función es convexa en: '"
      ]
     },
     "metadata": {},
     "output_type": "display_data"
    },
    {
     "data": {
      "text/latex": [
       "$\\displaystyle \\left(-\\infty, -1\\right)$"
      ],
      "text/plain": [
       "Interval.open(-oo, -1)"
      ]
     },
     "metadata": {},
     "output_type": "display_data"
    },
    {
     "data": {
      "text/plain": [
       "'La función es concava en: '"
      ]
     },
     "metadata": {},
     "output_type": "display_data"
    },
    {
     "data": {
      "text/latex": [
       "$\\displaystyle \\left(-1, \\infty\\right)$"
      ],
      "text/plain": [
       "Interval.open(-1, oo)"
      ]
     },
     "metadata": {},
     "output_type": "display_data"
    }
   ],
   "source": [
    "h = 3 / (1+x)\n",
    "\n",
    "d2h = sp.diff(h , x,2)\n",
    "\n",
    "crec = sp.solveset( d2h > 0, x, domain=sp.Reals)\n",
    "decrec = sp.solveset( d2h < 0 , x, domain=sp.Reals)\n",
    "\n",
    "if crec == sp.EmptySet:\n",
    "    display(\"La función es convexa en: \", decrec)\n",
    "elif decrec == sp.EmptySet:\n",
    "    display(\"La función es concava en: \", crec)\n",
    "else:\n",
    "    display(\"La función es convexa en: \", decrec)\n",
    "    display(\"La función es concava en: \", crec)"
   ]
  },
  {
   "cell_type": "markdown",
   "id": "33c73428",
   "metadata": {},
   "source": [
    "##### Ejercicio 7.2"
   ]
  },
  {
   "cell_type": "code",
   "execution_count": 45,
   "id": "504510e1",
   "metadata": {},
   "outputs": [
    {
     "data": {
      "text/plain": [
       "'Punto de inflexión: '"
      ]
     },
     "metadata": {},
     "output_type": "display_data"
    },
    {
     "data": {
      "text/latex": [
       "$\\displaystyle 1$"
      ],
      "text/plain": [
       "1"
      ]
     },
     "metadata": {},
     "output_type": "display_data"
    }
   ],
   "source": [
    "j = ((x**2 -1 ) / (2*x)) - sp.log(x)\n",
    "\n",
    "d2j = sp.diff(j , x , 2)\n",
    "\n",
    "infl = sp.solve(d2j, x)\n",
    "\n",
    "display(\"Punto de inflexión: \", infl[0])"
   ]
  },
  {
   "cell_type": "code",
   "execution_count": null,
   "id": "172ae0c9",
   "metadata": {},
   "outputs": [],
   "source": []
  },
  {
   "cell_type": "code",
   "execution_count": null,
   "id": "7a24ae69",
   "metadata": {},
   "outputs": [],
   "source": []
  }
 ],
 "metadata": {
  "kernelspec": {
   "display_name": "Python 3",
   "language": "python",
   "name": "python3"
  },
  "language_info": {
   "codemirror_mode": {
    "name": "ipython",
    "version": 3
   },
   "file_extension": ".py",
   "mimetype": "text/x-python",
   "name": "python",
   "nbconvert_exporter": "python",
   "pygments_lexer": "ipython3",
   "version": "3.12.12"
  }
 },
 "nbformat": 4,
 "nbformat_minor": 5
}
