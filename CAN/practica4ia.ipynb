{
 "cells": [
  {
   "cell_type": "markdown",
   "id": "46a4a44a",
   "metadata": {},
   "source": [
    "#  PRÁCTICA 4 CAN-GIA. Derivadas \n",
    "\n",
    "En esta práctica veremos cómo usar **SymPy** para calcular derivadas. Ello nos va a permitir calcular y representar la recta tangente a una curva en un punto, realizar aproximaciones de valores de una función, estudiar la monotonía de una función dada (si crece o decrece y dónde lo hace), así como determinar los intervalos de concavidad/convexidad de una función real dos veces derivable. \n",
    "\n",
    "### Objetivos\n",
    "\n",
    "- Calcular derivadas con **Python**\n",
    "- Calcular la recta tangente a una curva en un punto\n",
    "- Emplear la aproximación de la recta tangente\n",
    "- Calcular los extremos locales (relativos) y globales (absolutos) de una función\n",
    "- Determinar las propiedades de monotonía de una función \n",
    "- Determinar la concavidad/convexidad de una función y sus puntos de inflexión"
   ]
  },
  {
   "cell_type": "markdown",
   "id": "cf153202",
   "metadata": {},
   "source": [
    "# Derivadas con Python"
   ]
  },
  {
   "cell_type": "markdown",
   "id": "d56e4770",
   "metadata": {},
   "source": [
    "Para calcular derivadas con **Python** de forma simbólica, importamos el módulo **SymPy**:"
   ]
  },
  {
   "cell_type": "code",
   "execution_count": null,
   "id": "b4aa482d",
   "metadata": {
    "scrolled": true
   },
   "outputs": [],
   "source": [
    "import sympy as sp"
   ]
  },
  {
   "cell_type": "markdown",
   "id": "8a64c051",
   "metadata": {},
   "source": [
    "A continuación, definimos la variable independiente $x$, la función a derivar (en este caso, $f(x)=x^2+e^{-3x}+1$), y calculamos la derivada mediante la instrucción 'diff': "
   ]
  },
  {
   "cell_type": "code",
   "execution_count": null,
   "id": "82a0631e",
   "metadata": {},
   "outputs": [],
   "source": [
    "# Definimos la variable simbólica x, real\n",
    "x = sp.Symbol('x',real=True) \n",
    "# Definimos la función f\n",
    "f = sp.Lambda((x),x**2+sp.exp(-3*x)+1) \n",
    "# Calculamos la derivada de f con respecto a x\n",
    "df = sp.diff(f(x),x) \n",
    "# Mostramos la derivada\n",
    "display(df)"
   ]
  },
  {
   "cell_type": "markdown",
   "id": "20b6ff9b",
   "metadata": {},
   "source": [
    "También es posible calcular derivadas de orden superior. Por ejemplo:"
   ]
  },
  {
   "cell_type": "code",
   "execution_count": null,
   "id": "8a02d25d",
   "metadata": {},
   "outputs": [],
   "source": [
    "# Calculamos la derivada segunda de f con respecto a x\n",
    "df2 = sp.diff(f(x),x,2) \n",
    "# Mostramos la derivada segunda \n",
    "display(df2)"
   ]
  },
  {
   "cell_type": "markdown",
   "id": "2c7e3365",
   "metadata": {},
   "source": [
    "### Ejercicio 1: \n",
    "Calcula, usando **SymPy**, las derivadas de la función $f(x)=\\sin(x)$ hasta el orden $4$:"
   ]
  },
  {
   "cell_type": "code",
   "execution_count": null,
   "id": "c8b5d7eb",
   "metadata": {},
   "outputs": [],
   "source": [
    "#TU CÓDIGO AQUÍ\n",
    "\n",
    "g = sp.sin(x)\n",
    "\n",
    "display(sp.diff(g , x ))\n",
    "\n",
    "display(sp.diff(g , x ,2))\n",
    "\n",
    "display(sp.diff(g , x ,3))\n",
    "\n",
    "display(sp.diff(g , x ,4))\n",
    "\n",
    "display(g.subs({x:sp.pi/6}))"
   ]
  },
  {
   "cell_type": "markdown",
   "id": "ad3f2df9",
   "metadata": {},
   "source": [
    "# Recta tangente a una curva en un punto"
   ]
  },
  {
   "cell_type": "markdown",
   "id": "5e191951",
   "metadata": {},
   "source": [
    "La ecuación de la recta tangente a una curva $y=f(x)$ en el punto $(a,f(a))$ está dada por $$y=f(a)+f'(a)(x-a).$$ \n",
    "A continuación, calculamos la recta tangente a la curva $y=x^3$ en el punto $a=2$:"
   ]
  },
  {
   "cell_type": "code",
   "execution_count": null,
   "id": "0c344f01",
   "metadata": {},
   "outputs": [],
   "source": [
    "# Definimos la funcion g(x)=x^3\n",
    "g = sp.Lambda((x),x**3)\n",
    "# Calculamos la primera derivada de la funcion g\n",
    "dg = sp.diff(g(x),x)\n",
    "# Calculamos la recta tangente a g en el punto a=2\n",
    "r = g(2) + dg.subs(x,2)*(x-2)\n",
    "# Mostramos la recta tangente\n",
    "display(r)"
   ]
  },
  {
   "cell_type": "markdown",
   "id": "e054e559",
   "metadata": {},
   "source": [
    "# Aproximación lineal"
   ]
  },
  {
   "cell_type": "markdown",
   "id": "1f69c46c",
   "metadata": {},
   "source": [
    "Podemos emplear la recta tangente para aproximar valores de la función en puntos próximos al punto de desarrollo. Por ejemplo, podemos aproximar $f(2.1)=2.1^3=9.261$ por el valor de la recta tangente en el punto $2.1$: "
   ]
  },
  {
   "cell_type": "code",
   "execution_count": null,
   "id": "5cf0b15f",
   "metadata": {},
   "outputs": [],
   "source": [
    "# Aproximación lineal de 2.1^3\n",
    "r.subs(x,2.1) "
   ]
  },
  {
   "cell_type": "markdown",
   "id": "fd4fd14f",
   "metadata": {},
   "source": [
    "Calculamos el error absoluto en esta aproximación: $E_a=|2.1^3-r(2.1)|$"
   ]
  },
  {
   "cell_type": "code",
   "execution_count": null,
   "id": "28e2a6e8",
   "metadata": {},
   "outputs": [],
   "source": [
    "Eabs = abs(2.1**3 - r.subs(x,2.1))\n",
    "display(Eabs)"
   ]
  },
  {
   "cell_type": "markdown",
   "id": "8b3a29d7",
   "metadata": {},
   "source": [
    "Y el error relativo: $E_r=\\dfrac{E_a}{|2.1^3|}$"
   ]
  },
  {
   "cell_type": "code",
   "execution_count": null,
   "id": "6cfaeb2a",
   "metadata": {},
   "outputs": [],
   "source": [
    "Erel = Eabs / abs(2.1**3)\n",
    "display(Erel)"
   ]
  },
  {
   "cell_type": "markdown",
   "id": "d77f5576",
   "metadata": {},
   "source": [
    "Representamos gráficamente la función (en azul) y su aproximación lineal (en naranja):"
   ]
  },
  {
   "cell_type": "code",
   "execution_count": null,
   "id": "0e591fe2",
   "metadata": {},
   "outputs": [],
   "source": [
    "sp.plot((x**3,(x,-3,3)),(r,(x,-3,3)))"
   ]
  },
  {
   "cell_type": "markdown",
   "id": "d4d50e55",
   "metadata": {},
   "source": [
    "### Ejercicio 2:\n",
    "\n",
    "Calcula la recta tangente a la gráfica de $f(x)=\\sin(x)$ en el punto $a=\\displaystyle\\frac{\\pi}{3}$. Aproxima el valor de $\\sin(1)$ usando una aproximación lineal. ¿Cuál es el error relativo en la aproximación? Representa gráficamente la función $f$ y la recta tangente que has obtenido."
   ]
  },
  {
   "cell_type": "code",
   "execution_count": null,
   "id": "f1312a1a",
   "metadata": {},
   "outputs": [],
   "source": [
    "#TU CÓDIGO AQUÍ\n",
    "f = sp.Lambda((x),sp.sin(x))\n",
    "\n",
    "df = sp.diff(f(x) , x) # Importante derivar f(x) y no solo f\n",
    "\n",
    "r = f(sp.pi/3) + df.subs({x:(sp.pi/3)})*(x-(sp.pi/3))\n",
    "\n",
    "display(\"Recta tangente\", r)\n",
    "\n",
    "apr = r.subs({x:1})\n",
    "\n",
    "display(\"Aproximación\",apr)\n",
    "\n",
    "Eabs = abs(sp.sin(1) - r.subs(x,2.1))\n",
    "display(\"Errores\",float(Eabs))\n",
    "\n",
    "Er = Eabs / sp.Abs(sp.sin(1))\n",
    "display(float(Er))\n",
    "\n",
    "sp.plot((sp.sin(x),(x,-3,3)),(r,(x,-3,3)))"
   ]
  },
  {
   "cell_type": "code",
   "execution_count": null,
   "id": "559e2a48",
   "metadata": {},
   "outputs": [],
   "source": [
    "h1 = sp.E**x +1\n",
    "\n",
    "h1 = sp.Lambda(x, h1)\n",
    "\n",
    "dh = sp.diff(h1(x),x)\n",
    "\n",
    "display(dh)\n",
    "\n",
    "# Resolvemos la ecuación f'(x)=0 para determinar los POSIBLES extremos\n",
    "\n",
    "a = sp.solveset(dh > 0,x, domain=sp.Reals) # Forzamos la inecuación a los Reales para que no devuelva complejos\n",
    "\n",
    "b = sp.solveset(dh < 0,x, domain=sp.Reals)\n",
    "\n",
    "display(a)\n",
    "\n",
    "display(b)"
   ]
  },
  {
   "cell_type": "markdown",
   "id": "f96bd532",
   "metadata": {},
   "source": [
    "# Cálculo de extremos. Estudio de la monotonía de una función"
   ]
  },
  {
   "cell_type": "markdown",
   "id": "c603d58a",
   "metadata": {},
   "source": [
    "Para calcular los extremos de una función real de una variable real, seguimos los pasos usuales.\n",
    "\n",
    "A modo de ejemplo, vamos a calcular los extremos relativos de la función $f(x)=x^3-4x-3$. Como es derivable en todos sus puntos, calculamos en primer lugar los puntos en los que se anula su derivada:"
   ]
  },
  {
   "cell_type": "code",
   "execution_count": null,
   "id": "1db5969d",
   "metadata": {},
   "outputs": [],
   "source": [
    "# Definimos la variable simbólica x\n",
    "x = sp.Symbol('x',real=True) \n",
    "\n",
    "# Definimos la expresión simbólica f, que define la función\n",
    "f2 = x**3 - 4*x - 3\n",
    "\n",
    "# Calculamos la derivada de primer orden\n",
    "df = sp.diff(f2,x)\n",
    "\n",
    "# Resolvemos la ecuación f'(x)=0 para determinar los POSIBLES extremos\n",
    "a,b = sp.solve(df,x)\n",
    "\n",
    "# Mostramos los POSIBLES extremos\n",
    "display(a,b)\n",
    "\n",
    "sp.plot(f2 , (x, -5 , 5))"
   ]
  },
  {
   "cell_type": "markdown",
   "id": "9901e1ca",
   "metadata": {},
   "source": [
    "Evaluamos ahora la derivada segunda en los posibles extremos:"
   ]
  },
  {
   "cell_type": "code",
   "execution_count": null,
   "id": "07c5eabd",
   "metadata": {},
   "outputs": [],
   "source": [
    "# Calculamos la derivada de segundo orden\n",
    "df2 = sp.diff(f,x,2)\n",
    "\n",
    "# Evaluamos la derivada segunda en a y en b, y mostramos los valores\n",
    "display(df2.subs(x,a)) \n",
    "display(df2.subs(x,b)) "
   ]
  },
  {
   "cell_type": "markdown",
   "id": "49713adb",
   "metadata": {},
   "source": [
    "### Ejercicio 3: \n",
    "\n",
    "A la vista de los resultados, ¿son realmente extremos los puntos $a$ y $b$? En caso afirmativo, ¿qué tipo de extremos son? \n",
    "\n",
    "Representa gráficamente la función $f$ y sus extremos. "
   ]
  },
  {
   "cell_type": "code",
   "execution_count": null,
   "id": "57be05a0",
   "metadata": {},
   "outputs": [],
   "source": [
    "#TU CÓDIGO AQUÍ\n",
    "sp.plot(f2 , (x, -5 , 5))"
   ]
  },
  {
   "cell_type": "markdown",
   "id": "640e1a1f",
   "metadata": {},
   "source": [
    "### Ejercicio 4: \n",
    "\n",
    "Determina los extremos relativos y absolutos (si existen) de la función $f(x)=|x^2-16|$.\n",
    "\n",
    "1. Escribe la función $f$ como una función definida a trozos.\n",
    "2. Estudia la derivabilidad de la función $f$ en los puntos en los que cambia su definición.\n",
    "3. Determina el conjunto de posibles extremos de la función $f$.\n",
    "4. Estudia las propiedades de monotonía de la función $f$. ¿Tiene $f$ extremos relativos? En caso afirmativo, ¿son máximos o mínimos? ¿Tiene $f$ extremos absolutos?\n",
    "5. ¿Tiene la función $f$ extremos absolutos en el intervalo $[-4,5]$? Justifica tu respuesta y, si es afirmativa, determina los extremos absolutos de $f$ en dicho intervalo.\n",
    "6. Representa gráficamente la función, señalando en la gráfica sus extremos."
   ]
  },
  {
   "cell_type": "code",
   "execution_count": null,
   "id": "0820ab6f",
   "metadata": {},
   "outputs": [],
   "source": [
    "#TU CÓDIGO AQUÍ\n",
    "f = sp.Piecewise(\n",
    "    (x**2 - 16, (x >= 4) | (x < -4)),\n",
    "    (-1*x**2 + 16, (x < 4) & (x > -4))\n",
    ")\n",
    "df = sp.diff(f ,x)\n",
    "\n",
    "display(df)\n",
    "\n",
    "sp.plot(f, (x,-8,8))\n",
    "\n",
    "ahi = sp.limit(-2*x , x, 4) #Límite de f1 cuando x tiende a -oo \n",
    "\n",
    "ahd = sp.limit(2*x, x, 4, ) # Límite de f1 cuando x tiende a oo \n",
    "\n",
    "# Mostramos los resultados por pantalla\n",
    "display('Límite cuando x-> -oo es ',ahi) \n",
    "display('Límite cuando x-> +oo es ',ahd)\n",
    "\n",
    "\n",
    "extr = sp.solve(df , x)\n",
    "display(extr)\n",
    "\n",
    "# Calculamos la derivada de segundo orden\n",
    "df2 = sp.diff(f,x,2)\n",
    "\n",
    "# Evaluamos la derivada segunda en a y en b, y mostramos los valores\n",
    "pos_extr = df2.subs(x,extr[0])\n",
    "\n",
    "display() \n",
    "\n",
    "if pos_extr < 0:\n",
    "    print(\"Es un máximo local\")\n",
    "else:\n",
    "    print(\"Es un mínimo relativo\")\n",
    "\n",
    "# No tiene extremos absolutos"
   ]
  },
  {
   "cell_type": "markdown",
   "id": "786691d9",
   "metadata": {},
   "source": [
    "# Concavidad, convexidad y puntos de inflexión"
   ]
  },
  {
   "cell_type": "markdown",
   "id": "9d5a3de1",
   "metadata": {},
   "source": [
    "Vamos a estudiar ahora la concavidad, convexidad y puntos de inflexión de una función dada usando **Python**. "
   ]
  },
  {
   "cell_type": "markdown",
   "id": "f1b24b3d",
   "metadata": {},
   "source": [
    "Consideramos de nuevo la función $f(x)=x^3-4x-3$. Como es dos veces derivable, calculamos su derivada segunda e igualamos a cero, para ver los posibles puntos de inflexión:"
   ]
  },
  {
   "cell_type": "code",
   "execution_count": null,
   "id": "95b4383c",
   "metadata": {},
   "outputs": [],
   "source": [
    "# Definimos la variable simbólica x, real\n",
    "x = sp.Symbol('x',real=True)\n",
    "# Definimos la expresión simbólica f\n",
    "f = x**3 - 4*x - 3\n",
    "# Calculamos la derivada de segundo orden de f\n",
    "df2 = sp.diff(f,x,2)\n",
    "# Determinamos los POSIBLES puntos de inflexión, resolviendo la ecuación f''(x)=0\n",
    "a = sp.solve(df2,x)\n",
    "# Mostramos el posible punto de inflexión\n",
    "display(a)"
   ]
  },
  {
   "cell_type": "markdown",
   "id": "570bba66",
   "metadata": {},
   "source": [
    "Evaluamos la derivada segunda en un punto de cada uno de los intervalos determinados por los puntos de inflexión, para ver el signo:"
   ]
  },
  {
   "cell_type": "code",
   "execution_count": null,
   "id": "5ccb031d",
   "metadata": {},
   "outputs": [],
   "source": [
    "display(df2.subs(x,-1)) # < 0 => f cóncava\n",
    "display(df2.subs(x,1)) # > 0 => f convexa\n",
    "# 0 es punto de inflexión"
   ]
  },
  {
   "cell_type": "markdown",
   "id": "e99152c5",
   "metadata": {},
   "source": [
    "A la vista de los resultados, ¿qué se puede decir de la concavidad/convexidad de la función $f$? ¿Tiene la función $f$ algún punto de inflexión?"
   ]
  },
  {
   "cell_type": "markdown",
   "id": "a1aef3de",
   "metadata": {},
   "source": [
    "### Ejercicio 5:\n",
    "\n",
    "Considera la función $$f(x)=\\left\\{\\begin{array}{ll}\n",
    "-x^2+1,& \\text{si }x\\leq -1,\\\\\n",
    "\\sin(\\pi x), & \\text{si }-1< x< 1,\\\\\n",
    "e^{x^2}, & \\text{si }1< x.\n",
    "\\end{array}\\right.$$\n",
    "\n",
    "Determina los intervalos en los que $f$ es cóncava y convexa. ¿Tiene la función $f$ algún punto de inflexión?"
   ]
  },
  {
   "cell_type": "code",
   "execution_count": null,
   "id": "9f723c38",
   "metadata": {},
   "outputs": [],
   "source": [
    "#TU CÓDIGO AQUÍ"
   ]
  }
 ],
 "metadata": {
  "kernelspec": {
   "display_name": "Python 3",
   "language": "python",
   "name": "python3"
  },
  "language_info": {
   "codemirror_mode": {
    "name": "ipython",
    "version": 3
   },
   "file_extension": ".py",
   "mimetype": "text/x-python",
   "name": "python",
   "nbconvert_exporter": "python",
   "pygments_lexer": "ipython3",
   "version": "3.12.12"
  }
 },
 "nbformat": 4,
 "nbformat_minor": 5
}
