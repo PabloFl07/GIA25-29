{
 "cells": [
  {
   "cell_type": "markdown",
   "id": "f381a07d",
   "metadata": {},
   "source": [
    "# Simpy 2"
   ]
  },
  {
   "cell_type": "code",
   "execution_count": null,
   "id": "f2c1f10e",
   "metadata": {},
   "outputs": [],
   "source": [
    "import sympy as sp"
   ]
  },
  {
   "cell_type": "markdown",
   "id": "8a7e4f86",
   "metadata": {},
   "source": [
    "## Límites\n"
   ]
  },
  {
   "cell_type": "code",
   "execution_count": null,
   "id": "3c7fcc69",
   "metadata": {},
   "outputs": [],
   "source": [
    "x = sp.Symbol('x')         # Variable simbólica x\n",
    "\n",
    "f = x**2                   # Expresión  \n",
    "\n",
    "a = -3                     # Punto en el que se calcula el límite\n",
    "\n",
    "lim = sp.limit(f, x, a)    # Límite de la expresión cuando x se aproxima al punto a\n",
    "\n",
    "display(lim)"
   ]
  },
  {
   "cell_type": "markdown",
   "id": "cb0e089e",
   "metadata": {},
   "source": [
    "##### Límites laterales"
   ]
  },
  {
   "cell_type": "code",
   "execution_count": null,
   "id": "1bbed051",
   "metadata": {},
   "outputs": [],
   "source": [
    "f1 = 1/x \n",
    "\n",
    "limi = sp.limit(f1, x, 0,'+')   # Límite de f1 en a=0 por la DERECHA (+)\n",
    "print('Limite por la derecha: ',limi)\n",
    "\n",
    "limd = sp.limit(f1, x, 0,'-')   # Límite de f1 en a=0 por la IZQUIERDA (-)\n",
    "print('Limite por la izquierda: ',limd)\n",
    "\n",
    "\n",
    "lim= sp.limit(f1, x, 0)         # Si no especificamos el lado, lo calcula por la DERECHA \n",
    "display(lim)"
   ]
  },
  {
   "cell_type": "markdown",
   "id": "bf33468d",
   "metadata": {},
   "source": [
    "## Asíntotas\n"
   ]
  },
  {
   "cell_type": "markdown",
   "id": "edc52a9a",
   "metadata": {},
   "source": [
    "- La asíntota horizontal indica que la función se acerca a un **valor constante** cuando x→∞ o x→−∞.\n",
    "\n",
    "$y=L\\ es asíntota horizontal si\\ \\lim_{x \\to \\infty }f(x) = L\\ o\\ \\lim_{x \\to -\\infty }f(x) = L   $ \n",
    "\n",
    "- Una asíntota vertical ocurre cuando la función se acerca a **infinito** (o menos infinito) al acercarse a cierto valor x=a.\n",
    "\n",
    "$\\lim_{x \\to -a }f(x) = \\pm \\infty\\ \\ y\\ \\lim_{x \\to a}f(x) = \\pm \\infty  $\n",
    "\n",
    "- Asíntota oblicua es la recta con una **pendiente diferente de cero** a la que una función se aproxima indefinidamente cuando x tiende a infinito o menos infinito\n",
    "\n",
    "    - Una función racional f(x) = P(x)/Q(x) tiene una asíntota oblicua si y solo si el grado del **numerador (P)** es **una unidad mayor** que el **denominador (Q)** \n",
    "    - Si existe una **asíntota horizontal, no habrá asíntota oblicua**\n",
    "\n",
    "Es de la forma: $ y = mx +n$\n",
    "\n",
    "1. $m = \\lim_{x \\to \\pm\\infty } [f(x)/x]$\n",
    "\n",
    "2. $n = \\lim_{x \\to \\pm\\infty } [f(x) - mx]$"
   ]
  },
  {
   "cell_type": "code",
   "execution_count": null,
   "id": "66c90962",
   "metadata": {},
   "outputs": [],
   "source": [
    "from sympy import oo"
   ]
  },
  {
   "cell_type": "markdown",
   "id": "cffe7c08",
   "metadata": {},
   "source": [
    "##### Asíntota horizontal"
   ]
  },
  {
   "cell_type": "code",
   "execution_count": null,
   "id": "ab6c737b",
   "metadata": {},
   "outputs": [],
   "source": [
    "f2 = x*x/(x + 1)\n",
    "\n",
    "ahd = sp.limit(f2, x, oo)\n",
    "ahi = sp.limit(f2, x, -oo)\n",
    "print('Límite en +oo =',ahd)\n",
    "print('Límite en -oo =',ahi)\n",
    "\n",
    "# Como los límites no son un valor constante ( 1 , 5 ...), no existe asíntota horizontal"
   ]
  },
  {
   "cell_type": "markdown",
   "id": "26436874",
   "metadata": {},
   "source": [
    "##### Asíntota vertical\n",
    "Comprobamos asíntotas verticales en los puntos para los que no está definida la función"
   ]
  },
  {
   "cell_type": "code",
   "execution_count": null,
   "id": "e63b7a25",
   "metadata": {},
   "outputs": [],
   "source": [
    "avd = sp.limit(f2, x, -1,'+')\n",
    "avi = sp.limit(f2, x, -1,'-')\n",
    "print('Limite en a=-1 por la derecha = ',avd)\n",
    "print('Limite en a=-1 por la izquierda = ',avi)\n",
    "# Como ambos límites dan ±∞ , existe asíntota vertical en ese punto ( -1 )"
   ]
  },
  {
   "cell_type": "markdown",
   "id": "948c9f21",
   "metadata": {},
   "source": [
    "##### Asíntota oblicua"
   ]
  },
  {
   "cell_type": "code",
   "execution_count": null,
   "id": "9248f429",
   "metadata": {},
   "outputs": [],
   "source": [
    "aomd = sp.limit(f2/x, x, oo)          # Pendiente de la asíntota oblicua por la derecha     \n",
    "print('aomd = ',aomd)\n",
    "aond = sp.limit(f2 - aomd*x, x, oo)   # n de la asíntota oblicua por la derecha\n",
    "print('aond = ',aond) \n",
    "\n",
    "\n",
    "aomi = sp.limit(f2/x, x, -oo)         # Pendiente de la asíntota oblicua por la izquierda  \n",
    "print('aomi = ',aomi)\n",
    "aoni = sp.limit(f2 - aomi*x, x, -oo)  # n de la asíntota oblicua por la derecha\n",
    "print('aoni = ',aoni)\n",
    "\n",
    "# Como ambas m y n son iguales, hay una sola asíntota oblicua ( y = x -1 )"
   ]
  },
  {
   "cell_type": "markdown",
   "id": "ab96f0c0",
   "metadata": {},
   "source": [
    "## Derivadas"
   ]
  },
  {
   "cell_type": "code",
   "execution_count": null,
   "id": "b22164fd",
   "metadata": {},
   "outputs": [],
   "source": [
    "f = sp.Lambda((x), x**2 + sp.exp(-3*x) + 1) # Definimos la función\n",
    "\n",
    "df = sp.diff(f(x), x) # Derivada de f con respecto a x\n",
    "\n",
    "display(df)"
   ]
  },
  {
   "cell_type": "code",
   "execution_count": null,
   "id": "be50df28",
   "metadata": {},
   "outputs": [],
   "source": [
    "df2 = sp.diff(f(x), x , 2) # Podemos calcular la derivada enésima \n",
    "\n",
    "display(df2)"
   ]
  },
  {
   "cell_type": "markdown",
   "id": "17d110a1",
   "metadata": {},
   "source": [
    "##### Tangente a una curva en un punto\n",
    "La ecuación de la recta tangente a una curva $y=f(x)$ en el punto $(a,f(a))$ está dada por $$y=f(a)+f'(a)(x-a).$$ \n",
    "A continuación, calculamos la recta tangente a la curva $y=x^3$ en el punto $a=2$:"
   ]
  },
  {
   "cell_type": "code",
   "execution_count": null,
   "id": "6997093e",
   "metadata": {},
   "outputs": [],
   "source": [
    "g = sp.Lambda((x),x**3) # g(x)=x³\n",
    "dg = sp.diff(g(x),x) # g'(x)\n",
    "\n",
    "r = g(2) + dg.subs({x:2}) * (x-2) # Recta tangente a g en el punto a=2\n",
    "\n",
    "display(r)"
   ]
  },
  {
   "cell_type": "markdown",
   "id": "5b58b426",
   "metadata": {},
   "source": [
    "Podemos emplear la recta tangente para aproximar valores de la función en puntos próximos al punto de desarrollo. Por ejemplo, podemos aproximar $f(2.1)=2.1^3=9.261$ por el valor de la recta tangente en el punto $2.1$: "
   ]
  },
  {
   "cell_type": "code",
   "execution_count": null,
   "id": "58772972",
   "metadata": {},
   "outputs": [],
   "source": [
    "valor = g(2.1)\n",
    "\n",
    "apr = r.subs({x:2.1})\n",
    "\n",
    "print(\"g(2.1) = \", valor)\n",
    "print(\"Aproximación: \", apr)"
   ]
  },
  {
   "cell_type": "markdown",
   "id": "6886a9f7",
   "metadata": {},
   "source": [
    "##### Cálculo de errores:\n",
    "\n",
    "- Error absoluto:\n",
    "\n",
    "$E_a = |V_{real} - V_{medido}|$\n",
    "\n",
    "- Error relativo:\n",
    "\n",
    "$E_r = \\dfrac{E_a}{V_{real}}$\n",
    " "
   ]
  },
  {
   "cell_type": "code",
   "execution_count": null,
   "id": "7a846e79",
   "metadata": {},
   "outputs": [],
   "source": [
    "Eabs = abs(valor - apr)\n",
    "display(\"Error absoluto\", Eabs)\n",
    "\n",
    "Erel = Eabs / valor\n",
    "display(\"Error relativo\", Erel)"
   ]
  },
  {
   "cell_type": "markdown",
   "id": "80e17778",
   "metadata": {},
   "source": [
    "## Extremos y monotonía de una función"
   ]
  },
  {
   "cell_type": "markdown",
   "id": "804a7003",
   "metadata": {},
   "source": [
    "- Calcula la primera derivada de la función: $f^{\\prime }(x)$.  \n",
    "\n",
    "- Igualar la primera derivada a cero: $f^{\\prime }(x)=0$ y resuelve la ecuación para encontrar los valores de $x$ que la satisfacen.\n",
    "\n",
    "- Calcula la segunda derivada de la función: $f^{\\prime \\prime }(x)$ y clasificar los posibles extremos según el signo \n",
    "\n",
    "Si $f^{\\prime \\prime }(x)<0$, es un **máximo** local.\n",
    "\n",
    "Si $f^{\\prime \\prime }(x)>0$, es un **mínimo** local.\n",
    "\n",
    "Si $f^{\\prime \\prime }(x)=0$, la prueba de la segunda derivada no es concluyente y se debe usar otro método (como el análisis del signo de la primera derivada). \n",
    "\n",
    "¡¡ También hay que tener en cuenta los puntos donde la función no es derivable !!"
   ]
  },
  {
   "cell_type": "code",
   "execution_count": null,
   "id": "9f07e0bd",
   "metadata": {},
   "outputs": [],
   "source": [
    "f2 = x**3 -3*x**2 + 2\n",
    "\n",
    "df = sp.diff(f2,x) # Calculamos la primera derivada\n",
    "\n",
    "extr = sp.solve(df,x) # Resolvemos la ecuación f'(x)=0 para determinar los POSIBLES extremos\n",
    "\n",
    "display(\"Posibles extremos\", extr)\n",
    "\n",
    "df2 = sp.diff(f2,x,2) # Calculamos la segunda derivada \n",
    "\n",
    "for e in extr:  # Calculamos el valor de la segunda derivada en cada punto y verificamos con el criterio de la segunda derivada\n",
    "    valor = df2.subs({x:e})\n",
    "    if  valor > 0:   \n",
    "        print(f\"x = {e} mínimo local de f(x)\")\n",
    "    elif valor < 0:\n",
    "        print(f\"x = {e} máximo local de f(x)\")\n",
    "    elif valor == 0:\n",
    "        print(\"No es posible clasificar el extremo ( f''(x) = 0 )\")"
   ]
  },
  {
   "cell_type": "markdown",
   "id": "fd03988c",
   "metadata": {},
   "source": [
    "##### Monotonía ( Crecimiento y decrecimiento )"
   ]
  },
  {
   "cell_type": "code",
   "execution_count": null,
   "id": "eec71b7e",
   "metadata": {},
   "outputs": [],
   "source": [
    "g = (x+1)/(x-1)\n",
    "\n",
    "dg = sp.diff(g , x)\n",
    "\n",
    "# Solveset evalua mejor las inecuaciones, devuelve conjuntos ( COnjunto vacío, Reales, etc...) o intervalos\n",
    "crec = sp.solveset( dg > 0, x, domain=sp.Reals)\n",
    "decrec = sp.solveset( dg < 0 , x, domain=sp.Reals)\n",
    "\n",
    "display(\"Función creciente en: \", crec)  # Crecimiento = ∅ ( No crece )\n",
    "display(\"Función decreciente en: \", decrec)"
   ]
  },
  {
   "cell_type": "markdown",
   "id": "1450c6ea",
   "metadata": {},
   "source": [
    "##### Concavidad y convexidad\n",
    "Evaluamos el signo de la segunda derivada \n",
    "\n",
    "- Si $f^{\\prime \\prime }(x)>0$  es convexa\n",
    "- Si $f^{\\prime \\prime }(x)<0$ es cóncava. "
   ]
  },
  {
   "cell_type": "code",
   "execution_count": null,
   "id": "6d2c58e9",
   "metadata": {},
   "outputs": [],
   "source": [
    "h = 3 / (1 + x)\n",
    "\n",
    "d2h = sp.diff(h, x, 2)\n",
    "display(\"Segunda derivada:\", d2h)\n",
    "\n",
    "convexa = sp.solveset(d2h > 0, x, domain=sp.Reals)\n",
    "concava = sp.solveset(d2h < 0, x, domain=sp.Reals)\n",
    "\n",
    "display(\"Función convexa en:\", convexa)\n",
    "display(\"Función cóncava en:\", concava)"
   ]
  },
  {
   "cell_type": "code",
   "execution_count": null,
   "id": "9fe95215",
   "metadata": {},
   "outputs": [],
   "source": [
    "t = x**3 - 4*x - 3\n",
    "\n",
    "dt2 = sp.diff(t,x,2) # Segunda derivada \n",
    "a = sp.solve(dt2,x)  # Resolvemos f''(x) = 0 -> Posibles puntos de inflexión\n",
    "\n",
    "display(\"Posibles puntos de inflexión\", a)\n",
    "\n",
    "# Para comprobarlo tenemos que verificar el cambio de concavidad"
   ]
  }
 ],
 "metadata": {
  "kernelspec": {
   "display_name": "Python 3",
   "language": "python",
   "name": "python3"
  },
  "language_info": {
   "codemirror_mode": {
    "name": "ipython",
    "version": 3
   },
   "file_extension": ".py",
   "mimetype": "text/x-python",
   "name": "python",
   "nbconvert_exporter": "python",
   "pygments_lexer": "ipython3",
   "version": "3.12.12"
  }
 },
 "nbformat": 4,
 "nbformat_minor": 5
}
