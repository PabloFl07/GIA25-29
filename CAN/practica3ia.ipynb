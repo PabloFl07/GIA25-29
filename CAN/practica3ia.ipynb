{
 "cells": [
  {
   "cell_type": "markdown",
   "id": "4a3b95ad",
   "metadata": {},
   "source": [
    "#  PRÁCTICA 3 CAN-GIA. Límites y asíntotas \n",
    "\n",
    "La librería **SymPy** permite calcular límites de forma simbólica. Como consecuencia inmediata, disponemos de una herramienta para el cálculo de las asíntotas de funciones de una variable.\n",
    "\n",
    " ### Objetivos\n",
    " - Calcular límites de funciones reales de variable real.\n",
    " - Calcular y representar asíntotas de funciones reales de variable real."
   ]
  },
  {
   "cell_type": "markdown",
   "id": "94e823b5",
   "metadata": {},
   "source": [
    "## 1.1 Límites"
   ]
  },
  {
   "cell_type": "markdown",
   "id": "799178aa",
   "metadata": {},
   "source": [
    "En este apartado aprenderemos a calcular límites de funciones con **Python** empleando la librería **SymPy**.\n",
    "\n",
    "Para calcular el límite de la expresión simbólica $x^2$ cuando la variable independiente $x$ se aproxima a una valor $a$, escribimos:"
   ]
  },
  {
   "cell_type": "code",
   "execution_count": null,
   "id": "463cfad0",
   "metadata": {},
   "outputs": [
    {
     "data": {
      "text/latex": [
       "$\\displaystyle 9$"
      ],
      "text/plain": [
       "9"
      ]
     },
     "metadata": {},
     "output_type": "display_data"
    }
   ],
   "source": [
    "from sympy import limit , oo , Symbol   # limite\n",
    " \n",
    "x = Symbol('x') # Definimos la variable simbólica x\n",
    "\n",
    "f = x**2 # Definimos la expresión simbólica \n",
    "\n",
    "a = -3 # Definimos el punto en el que se calcula el límite\n",
    "\n",
    "l1 = limit(f, x, a) # Calculamos el límite de la expresión cuando x se aproxima al punto a\n",
    "\n",
    "display(l1) # Mostramos por pantalla el valor del límite"
   ]
  },
  {
   "cell_type": "markdown",
   "id": "894ac271",
   "metadata": {},
   "source": [
    "### Limites laterales"
   ]
  },
  {
   "cell_type": "markdown",
   "id": "f82a7035",
   "metadata": {},
   "source": [
    "También es posible calcular los límites laterales, añadiendo en la instruccion 'limit' un '+' para el límite por la derecha y un '-' para el límite por la izquierda. \n",
    "\n",
    "Para ilustrar este cálculo, usamos la función $f_1(x)=\\dfrac{1}{x}$."
   ]
  },
  {
   "cell_type": "code",
   "execution_count": 3,
   "id": "003efbd6",
   "metadata": {},
   "outputs": [
    {
     "name": "stdout",
     "output_type": "stream",
     "text": [
      "Limite por la derecha =  oo\n",
      "Limite por la izquierda =  -oo\n"
     ]
    },
    {
     "data": {
      "text/latex": [
       "$\\displaystyle \\infty$"
      ],
      "text/plain": [
       "oo"
      ]
     },
     "metadata": {},
     "output_type": "display_data"
    }
   ],
   "source": [
    "\n",
    "f1 = 1/x # Definimos la expresión simbólica de la que vamos a calcular el límite\n",
    "\n",
    "l2d = limit(f1, x, 0,'+') # Límite de f1 en a=0 por la derecha\n",
    "print('Limite por la derecha = ',l2d)\n",
    "\n",
    "l2i = limit(f1, x, 0,'-') # Límite de f1 en a=0 por la izquierda \n",
    "print('Limite por la izquierda = ',l2i)\n",
    "\n",
    "\n",
    "av = limit(f1, x, 0) # Si no especificamos el lado, lo calcula por la derecha \n",
    "display(av)"
   ]
  },
  {
   "cell_type": "markdown",
   "id": "bdd8ab62",
   "metadata": {},
   "source": [
    "### Limites en el infinito."
   ]
  },
  {
   "cell_type": "markdown",
   "id": "73012369",
   "metadata": {},
   "source": [
    "También es posible calcular límites en el infinito:"
   ]
  },
  {
   "cell_type": "code",
   "execution_count": null,
   "id": "c0fcf041",
   "metadata": {},
   "outputs": [
    {
     "data": {
      "text/plain": [
       "'Límite cuando x-> -oo es '"
      ]
     },
     "metadata": {},
     "output_type": "display_data"
    },
    {
     "data": {
      "text/latex": [
       "$\\displaystyle \\left\\langle -1, 1\\right\\rangle$"
      ],
      "text/plain": [
       "AccumBounds(-1, 1)"
      ]
     },
     "metadata": {},
     "output_type": "display_data"
    },
    {
     "data": {
      "text/plain": [
       "'Límite cuando x-> +oo es '"
      ]
     },
     "metadata": {},
     "output_type": "display_data"
    },
    {
     "data": {
      "text/latex": [
       "$\\displaystyle \\left\\langle -1, 1\\right\\rangle$"
      ],
      "text/plain": [
       "AccumBounds(-1, 1)"
      ]
     },
     "metadata": {},
     "output_type": "display_data"
    }
   ],
   "source": [
    "\n",
    "ahi = limit(f1, x, -oo) #Límite de f1 cuando x tiende a -oo \n",
    "\n",
    "ahd = limit(f1, x, oo, ) # Límite de f1 cuando x tiende a oo \n",
    "\n",
    "# Mostramos los resultados por pantalla\n",
    "display('Límite cuando x-> -oo es ',ahi) \n",
    "display('Límite cuando x-> +oo es ',ahd)"
   ]
  },
  {
   "cell_type": "markdown",
   "id": "5644d15e",
   "metadata": {},
   "source": [
    "## 1.2 Asíntotas"
   ]
  },
  {
   "cell_type": "markdown",
   "id": "548e6716",
   "metadata": {},
   "source": [
    "### Ejercicio 1. \n",
    "\n",
    "Los límites calculados para la función $f_1$ permiten una interpretación directa del cálculo de las asíntotas de esa función. ¿Qué asíntotas conocemos a partir de estos cálculos? Para completar el estudio de las asíntotas de $f_1$, ¿necesitamos calcular algún límite más?"
   ]
  },
  {
   "cell_type": "code",
   "execution_count": null,
   "id": "bbb65fb1",
   "metadata": {},
   "outputs": [
    {
     "name": "stdout",
     "output_type": "stream",
     "text": [
      "Limite por la derecha =  oo\n",
      "Limite por la izquierda =  -oo\n"
     ]
    },
    {
     "data": {
      "text/latex": [
       "$\\displaystyle \\infty$"
      ],
      "text/plain": [
       "oo"
      ]
     },
     "metadata": {},
     "output_type": "display_data"
    }
   ],
   "source": [
    "# TU CÓDIGO AQUÍ"
   ]
  },
  {
   "cell_type": "markdown",
   "id": "cc10f326",
   "metadata": {},
   "source": [
    "Calculamos ahora las asíntotas de la función $f(x)=\\displaystyle\\frac{x^2}{x+1}$. Podemos denominar a cada límite de modo que nos indique lo que se guarda en la variable correspondiente."
   ]
  },
  {
   "cell_type": "code",
   "execution_count": 12,
   "id": "852d1d49",
   "metadata": {},
   "outputs": [
    {
     "name": "stdout",
     "output_type": "stream",
     "text": [
      "Límite en +oo = oo\n",
      "Límite en -oo = -oo\n",
      "Limite en a=-1 por la derecha =  oo\n",
      "Limite en a=-1 por la izquierda =  -oo\n",
      "aomd =  1\n",
      "aond =  -1\n",
      "aomi =  1\n",
      "aoni =  -1\n"
     ]
    }
   ],
   "source": [
    "# Definimos la expresión simbólica\n",
    "f2 = x*x/(x + 1)\n",
    "\n",
    "\n",
    "# ASINTOTAS HORIZONTALES\n",
    "ahd = limit(f2, x, oo)\n",
    "ahi = limit(f2, x, -oo)\n",
    "print('Límite en +oo =',ahd)\n",
    "print('Límite en -oo =',ahi)\n",
    "# NO HAY ASINTOTAS HORIZONTALES\n",
    "\n",
    "\n",
    "# ASINTOTAS VERTICALES\n",
    "avd = limit(f2, x, -1,'+')\n",
    "avi = limit(f2, x, -1,'-')\n",
    "print('Limite en a=-1 por la derecha = ',avd)\n",
    "print('Limite en a=-1 por la izquierda = ',avi)\n",
    "# x = -1 asíntota vertical\n",
    "\n",
    "\n",
    "# ASINTOTAS OBLICUAS\n",
    "\n",
    "aomd = limit(f2/x, x, oo) # Pendiente de la asíntota oblicua por la derecha     \n",
    "print('aomd = ',aomd)\n",
    "# y = aomd * x + aond: asíntota oblicua por la derecha\n",
    "aond = limit(f2 - aomd*x, x, oo)  \n",
    "print('aond = ',aond) \n",
    "# y = 1 * x - 1 = x-1 asíntota oblicua cuando x->+oo\n",
    "\n",
    "# Pendiente de la asíntota oblicua por la izquierda\n",
    "aomi = limit(f2/x, x, -oo)      \n",
    "print('aomi = ',aomi)\n",
    "# y = aomi * x + aon: asíntota oblicua por la izquierda\n",
    "aoni = limit(f2 - aomi*x, x, -oo)\n",
    "print('aoni = ',aoni)\n",
    "# y = 1 * x - 1 = x-1 asíntota oblicua cuando x->-oo\n"
   ]
  },
  {
   "cell_type": "markdown",
   "id": "fad83049",
   "metadata": {},
   "source": [
    "### Ejercicio 2 \n",
    "\n",
    "Representa en la misma ventana gráfica la función $f(x)=\\displaystyle\\frac{x^2}{x+1}$ y sus asíntotas."
   ]
  },
  {
   "cell_type": "code",
   "execution_count": 30,
   "id": "6517e035",
   "metadata": {},
   "outputs": [
    {
     "data": {
      "text/plain": [
       "(-10.0, 10.0)"
      ]
     },
     "execution_count": 30,
     "metadata": {},
     "output_type": "execute_result"
    },
    {
     "data": {
      "image/png": "[encoded data removed]",
      "text/plain": [
       "<Figure size 640x480 with 1 Axes>"
      ]
     },
     "metadata": {},
     "output_type": "display_data"
    }
   ],
   "source": [
    "#TU CÓDIGO AQUÍ\n",
    "import sympy as sp\n",
    "import matplotlib.pyplot as plt\n",
    "import numpy as np\n",
    "\n",
    "f = sp.lambdify(x, f2, 'numpy')\n",
    "r = np.linspace(-10, 10, 400)\n",
    "\n",
    "plt.plot(r, f(r), label='f2(x)', )\n",
    "plt.plot(r, r-1, label='Asintota oblicua x-1', color='red')\n",
    "plt.ylim(-10, 10)\n"
   ]
  },
  {
   "cell_type": "markdown",
   "id": "54dac9f7",
   "metadata": {},
   "source": [
    "### Ejercicio 3\n",
    "\n",
    "Calcula todas las asíntotas de las funciones siguientes: \n",
    "\n",
    " a)   $ g(t) = \\displaystyle\\frac{2t^3}{t^2 - 1} $\n",
    "\n",
    " b)   $ a(v) = 2 + \\displaystyle \\frac{3}{v^2 + 4} $\n",
    " \n",
    "y represéntalas gráficamente. "
   ]
  },
  {
   "cell_type": "code",
   "execution_count": null,
   "id": "0234c99b",
   "metadata": {},
   "outputs": [],
   "source": [
    "#TU CÓDIGO AQUÍ"
   ]
  },
  {
   "cell_type": "markdown",
   "id": "11c4ca24",
   "metadata": {},
   "source": [
    "###  Ejercicio 4\n",
    "\n",
    "a) Construye una función no racional que tenga una asíntota vertical en $ x = -2 $.\n",
    "Calcula el resto de sus asíntotas.\n",
    "\n",
    "b) Construye una función que tenga una asíntota oblicua por la izquierda y una horizontal por la derecha."
   ]
  },
  {
   "cell_type": "code",
   "execution_count": null,
   "id": "2ef709eb",
   "metadata": {},
   "outputs": [],
   "source": [
    "#TU CÓDIGO AQUÍ"
   ]
  },
  {
   "cell_type": "markdown",
   "id": "23fa950e",
   "metadata": {},
   "source": [
    "###  Ejercicio 5\n",
    "\n",
    "Construye una función con una asíntota vertical solamente por un lado. \n",
    "Completa el estudio de asíntotas."
   ]
  },
  {
   "cell_type": "code",
   "execution_count": null,
   "id": "d1a6f414",
   "metadata": {},
   "outputs": [],
   "source": [
    "#TU CÓDIGO AQUÍ"
   ]
  }
 ],
 "metadata": {
  "celltoolbar": "Attachments",
  "kernelspec": {
   "display_name": "Python 3",
   "language": "python",
   "name": "python3"
  },
  "language_info": {
   "codemirror_mode": {
    "name": "ipython",
    "version": 3
   },
   "file_extension": ".py",
   "mimetype": "text/x-python",
   "name": "python",
   "nbconvert_exporter": "python",
   "pygments_lexer": "ipython3",
   "version": "3.12.11"
  }
 },
 "nbformat": 4,
 "nbformat_minor": 5
}
