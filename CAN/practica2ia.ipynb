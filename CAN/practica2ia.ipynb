{
 "cells": [
  {
   "cell_type": "markdown",
   "metadata": {},
   "source": [
    "# Práctica 2 CAN-GIA. Introducción a SymPy \n",
    "\n",
    "### Introducción a SymPy\n",
    "\n",
    "Además de las variables numéricas, existen las variables simbólicas que permiten calcular\n",
    "límites, derivadas, integrales, etc., como se hace habitualmente en las clases de matemáticas.\n",
    "Para poder hacer estas operaciones, es preciso tener instalada la librería **SymPy**. En https://docs.SymPy.org/latest/index.html tenéis más información sobre este módulo.\n",
    "\n",
    "A diferencia del módulo **NumPy**, el módulo **SymPy** no trabaja con una estructura de datos basada en números sino que trabaja con objetos que poseen atributos y métodos que tratan de reproducir el comportamiento matemático de las variables, funciones, ecuaciones, etc. con las que se trabaja habitualmente en cálculo diferencial e integral.\n",
    "\n",
    "\n",
    "### Objetivos:\n",
    "\n",
    "- Uso de variables simbólicas\n",
    "- Hipótesis sobre las variables \n",
    "- Manipulación de expresiones simbólicas\n",
    "- Representación gráfica de funciones mediante SymPy\n",
    "\n",
    "\n",
    "## Carga del módulo\n",
    "El módulo **SymPy** se puede instalar usando la herramienta `pip` (!pip3 -q install SymPy) o `conda` si se emplea otro entorno de trabajo. Para poder utilizar el módulo **SymPy**, una vez instalado, lo importamos mediante:"
   ]
  },
  {
   "cell_type": "code",
   "execution_count": null,
   "metadata": {},
   "outputs": [],
   "source": [
    "import sympy as sp"
   ]
  },
  {
   "cell_type": "markdown",
   "metadata": {},
   "source": [
    "## Variables simbólicas\n",
    "Para trabajar en modo simbólico es necesario definir variables simbólicas, para lo cual empleamos la función `sp.Symbol`. Veamos algunos ejemplos:"
   ]
  },
  {
   "cell_type": "code",
   "execution_count": null,
   "metadata": {},
   "outputs": [],
   "source": [
    "x = sp.Symbol('x') # define la variable simbólica x\n",
    "y = sp.Symbol('y') # define la variable simbólica y\n",
    "expresion1 = 3*x + 5*y # define la expresion simbólica expresion1. \n",
    "print(expresion1)\n",
    "\n",
    "a, b, c = sp.symbols('a:c') # define como simbólicas las variables a, b, c.\n",
    "expresion2 = a**3 + b**2 + c\n",
    "print(expresion2)"
   ]
  },
  {
   "cell_type": "markdown",
   "metadata": {},
   "source": [
    "Debemos de tener claro que las variables `x` o `y` que acabamos de definir no son números, ni tampoco pertenecen a los objetos definidos con  **NumPy**. Todas las variables simbólicas son objetos de la clase `sp.Symbol` y sus atributos y métodos son completamente diferentes a los que aparecían en las variables numéricas y vectores de **NumPy**:"
   ]
  },
  {
   "cell_type": "code",
   "execution_count": null,
   "metadata": {},
   "outputs": [],
   "source": [
    "print(type(x))"
   ]
  },
  {
   "cell_type": "markdown",
   "metadata": {},
   "source": [
    "Con **SymPy** se pueden definir constantes enteras o números racionales (todas de forma simbólica) usando los comandos `sp.Integer` o `sp.Rational`, respectivamente. Por ejemplo, podemos definir la constante simbólica $1/3$. Si hacemos lo mismo con números representados por defecto en Python, obtendríamos resultados muy diferentes. Observa también la diferencia que existe entre el tipo de dato asignado en el espacio de trabajo"
   ]
  },
  {
   "cell_type": "code",
   "execution_count": null,
   "metadata": {},
   "outputs": [],
   "source": [
    "a = sp.Rational('1/3')\n",
    "b = sp.Integer('1')/sp.Integer('3')\n",
    "c = 1/3\n",
    "d = 1.0/3.0\n",
    "print(a)\n",
    "print(b)\n",
    "print(c)\n",
    "print(d)\n",
    "print(type(a))\n",
    "print(type(c))"
   ]
  },
  {
   "cell_type": "markdown",
   "metadata": {},
   "source": [
    "La función `float`, una vez hechos todos los cálculos simbólicos, permite obtener el **valor numérico**."
   ]
  },
  {
   "cell_type": "code",
   "execution_count": null,
   "metadata": {
    "scrolled": true
   },
   "outputs": [],
   "source": [
    "a = 2\n",
    "print(a)\n",
    "b = 3.0\n",
    "c = a/b\n",
    "e = float(c)\n",
    "print(type(a))\n",
    "print(type(c))\n",
    "print(c)\n",
    "print('{0:.15f}'.format(e))"
   ]
  },
  {
   "cell_type": "markdown",
   "metadata": {},
   "source": [
    "Algunas constantes simbólicas de uso frecuente, como los números $\\pi$ y $e$, están disponibles en **SymPy**. Para operar con variables o constantes simbólicas, debemos emplear funciones que sean capaces de manipular este tipo de objetos, todas ellas implementadas en el módulo **SymPy** (por ejemplo, `sp.sin`, `sp.cos`, `sp.log`, `sp.exp`,`sp.sqrt`,etc)."
   ]
  },
  {
   "cell_type": "code",
   "execution_count": null,
   "metadata": {},
   "outputs": [],
   "source": [
    "p = sp.pi # definición de la constante pi\n",
    "print('cos(pi) = ',sp.cos(p))\n",
    "p1 = sp.sqrt(p) \n",
    "print('exp(sqrt(pi)) = ',sp.exp(p1))\n",
    "\n",
    "e = sp.E # definición del número e\n",
    "print('ln(e) = ',sp.log(e))  # observa que log calcula el neperiano"
   ]
  },
  {
   "cell_type": "markdown",
   "metadata": {},
   "source": [
    "## Hipótesis sobre las variables\n",
    "\n",
    "Cuando se define una variable simbólica, se le puede asignar cierta información adicional sobre el tipo de valores que puede alcanzar, o las hipótesis que se le van a aplicar. Por ejemplo, podemos decidir antes de hacer cualquier cálculo si la variable toma valores enteros o reales, si es positiva o negativa, mayor que un cierto número, etc. Este tipo de información se añade en el momento de la definición de la variable simbólica como un argumento opcional."
   ]
  },
  {
   "cell_type": "code",
   "execution_count": null,
   "metadata": {},
   "outputs": [],
   "source": [
    "x = sp.Symbol('x', nonnegative = True) # la raíz cuadrada de un número no negativo es real\n",
    "y = sp.sqrt(x)\n",
    "print(y.is_real)   # la salida de una variable lógica es True o None\n",
    "\n",
    "x = sp.Symbol('x', integer = True) # la potencia de un número entero es entera\n",
    "y = x**sp.S(2)\n",
    "print(y.is_integer)\n",
    "\n",
    "a = sp.Symbol('a')\n",
    "b = sp.sqrt(a)\n",
    "print(b.is_real)\n",
    "\n",
    "a = sp.Symbol('a')\n",
    "b = a**sp.S(2)\n",
    "print(b.is_integer)"
   ]
  },
  {
   "cell_type": "markdown",
   "metadata": {},
   "source": [
    "Puesto que los cálculos simbólicos son consistentes en **SymPy**, también se pueden hacer comprobaciones sobre si algunas desigualdades son ciertas o no, siempre y cuando sean compatibles con las hipótesis que se hagan al definir las variables simbólicas."
   ]
  },
  {
   "cell_type": "code",
   "execution_count": null,
   "metadata": {},
   "outputs": [],
   "source": [
    "x = sp.Symbol('x', real = True)\n",
    "p = sp.Symbol('p', positive = True)\n",
    "q = sp.Symbol('q', real = True)\n",
    "y = sp.Abs(x) + p #  valor absoluto\n",
    "z = sp.Abs(x) + q\n",
    "print(y > 0)\n",
    "print(z > 0)"
   ]
  },
  {
   "cell_type": "markdown",
   "metadata": {},
   "source": [
    "## Manipulación de expresiones simbólicas"
   ]
  },
  {
   "cell_type": "markdown",
   "metadata": {},
   "source": [
    "De la misma forma que el módulo **SymPy** permite definir variables simbólicas, también podemos definir expresiones matemáticas a partir de éstas y manipularlas, factorizándolas, expandiéndolas,  o imprimiéndolas  como lo haríamos con lápiz y papel"
   ]
  },
  {
   "cell_type": "code",
   "execution_count": null,
   "metadata": {},
   "outputs": [],
   "source": [
    "x,y = sp.symbols('x,y', real=True)\n",
    "expr = (x-3)*(x-3)**2*(y-2)\n",
    "expr_long = sp.expand(expr) # Expandir expresión\n",
    "\n",
    "print(expr_long) # Imprimir de forma estándar\n",
    "print()\n",
    "sp.pprint(expr_long) # Imprimir de forma semejante a con lápiz y papel\n",
    "print()\n",
    "\n",
    "expr_short = sp.factor(expr)\n",
    "print(expr_short) # Factorizar expresión\n",
    "print()\n",
    "\n",
    "expr = -3+(x**2-6*x+9)/(x-3)\n",
    "expr_simple = sp.simplify(expr) # Simplificar expresión\n",
    "sp.pprint(expr)\n",
    "print(expr_simple)"
   ]
  },
  {
   "cell_type": "markdown",
   "metadata": {},
   "source": [
    "Dada una expresión en **SymPy**, también se puede manipular, sustituyendo unas variables simbólicas por otras o reemplazando las variables simbólicas por constantes. Para hacer este tipo de sustituciones se emplea la función `subs` y los valores a utilizar en la sustitución vienen definidos por un diccionario de Python:"
   ]
  },
  {
   "cell_type": "code",
   "execution_count": null,
   "metadata": {},
   "outputs": [],
   "source": [
    "x,y = sp.symbols('x,y', real=True)\n",
    "expr = x*x + x*y + y*x + y*y\n",
    "res = expr.subs({x:1, y:2}) # Sustitución de las variables simbólicas por constantes\n",
    "print(res)\n",
    "\n",
    "expr_sub = expr.subs({x:1-y}) # Sustitución de variable simbólica por una expresión\n",
    "sp.pprint(expr_sub)\n",
    "print(sp.simplify(expr_sub))"
   ]
  },
  {
   "cell_type": "markdown",
   "metadata": {},
   "source": [
    "### **Ejercicio 1** ###\n",
    "Define la expresión simbólica dada por la suma de los términos siguientes:\n",
    "$$\n",
    "a+a^2+a^3+a^5,\n",
    "$$\n",
    "donde $a$ es una variable real arbitraria. Obtén el valor numérico de dicha expresión de dos formas distintas cuando a = 3.4."
   ]
  },
  {
   "cell_type": "code",
   "execution_count": null,
   "metadata": {},
   "outputs": [],
   "source": [
    "# TU CÓDIGO AQUÍ"
   ]
  },
  {
   "cell_type": "markdown",
   "metadata": {},
   "source": [
    "### Solve ###\n",
    "El comando `solve` nos permite resolver una ecuación o un sistema de ecuaciones como puedes ver a continuación:"
   ]
  },
  {
   "cell_type": "code",
   "execution_count": null,
   "metadata": {},
   "outputs": [],
   "source": [
    "x = sp.symbols('x')\n",
    "ec1 = sp.exp(x+1) - 5\n",
    "sol1 = sp.solve(ec1,x)\n",
    "print(sol1)\n",
    "print(float(sol1[0]))"
   ]
  },
  {
   "cell_type": "code",
   "execution_count": null,
   "metadata": {},
   "outputs": [],
   "source": [
    "# Importar la librería SymPy\n",
    "import sympy as sp\n",
    "\n",
    "# Definir las variables simbólicas\n",
    "x, y = sp.symbols('x y')\n",
    "\n",
    "# Definir el sistema de ecuaciones\n",
    "# Ejemplo:\n",
    "# 2x + 3y = 6\n",
    "# 3x - 4y = -12\n",
    "ec1 = sp.Eq(2*x + 3*y, 6)\n",
    "ec2 = sp.Eq(3*x - 4*y, -12)\n",
    "\n",
    "# Resolver el sistema\n",
    "solucion = sp.solve((ec1, ec2), (x, y))\n",
    "\n",
    "# Mostrar la solución\n",
    "display(solucion)\n"
   ]
  },
  {
   "cell_type": "markdown",
   "metadata": {},
   "source": [
    "### **Ejercicio 2** ###  \n",
    "Construye una expresión cuyas raíces son $ r1 = 2.3 $ y $ r2 = -5.3$. Desarrolla la expresión y comprueba mediante el comando `solve` sus raíces."
   ]
  },
  {
   "cell_type": "code",
   "execution_count": null,
   "metadata": {},
   "outputs": [],
   "source": [
    "# TU CÓDIGO AQUÍ"
   ]
  },
  {
   "cell_type": "markdown",
   "metadata": {},
   "source": [
    "## Funciones con Sympy\n",
    "Debemos diferenciar expresión de función. El comando **lambda** nos permite el paso de una a otra."
   ]
  },
  {
   "cell_type": "code",
   "execution_count": null,
   "metadata": {},
   "outputs": [],
   "source": [
    "x = sp.Symbol('x',real=True)           # Se define la variable simbólica x\n",
    "exprf = x**2+sp.exp(-3*x)+1\n",
    "f = sp.Lambda((x),exprf) # Se define la función f\n",
    "display(' expresion  ',exprf)\n",
    "display('evaluar la expresion en 3', exprf.subs({x:3}))\n",
    "display(' funcion  ',f)\n",
    "display(' evaluar la funcion f(3)= ',f(3))"
   ]
  },
  {
   "cell_type": "markdown",
   "metadata": {},
   "source": [
    "## Representación gráfica con SymPy ##"
   ]
  },
  {
   "cell_type": "markdown",
   "metadata": {},
   "source": [
    "Vemos ahora una manera alternativa de representar funciones reales de una variable real usando el módulo **SymPy**.\n",
    "Representamos a continuación la parábola $y=x^2$, para $x\\in[-3,3]$, y la función signo en el intervalo $[-5,5]$."
   ]
  },
  {
   "cell_type": "code",
   "execution_count": null,
   "metadata": {},
   "outputs": [],
   "source": [
    "from sympy import symbols\n",
    "from sympy import sign\n",
    "from sympy.plotting import plot\n",
    "\n",
    "x = symbols('x')\n",
    "\n",
    "plot((x**2, (x, -3, 3)), (sign(x), (x, -5, -0.01)),(sign(x), (x, 0.01, 5)))"
   ]
  },
  {
   "cell_type": "markdown",
   "metadata": {},
   "source": [
    "### **Ejercicio 3** ###\n",
    "Emplea SymPy para representar en la misma gráfica la función $$ g(x) = \\cos(kx)$$  para tres valores de $k$ distintos."
   ]
  },
  {
   "cell_type": "code",
   "execution_count": null,
   "metadata": {},
   "outputs": [],
   "source": [
    "#TU CÓDIGO AQUÍ"
   ]
  },
  {
   "cell_type": "markdown",
   "metadata": {},
   "source": [
    "### Construimos con SymPy. Dibujamos con NumPy\n",
    "Este código primero define una función polinómica usando **SymPy**. Luego, `lambdify` convierte la función en una función **NumPy** que puede ser evaluada en una matriz de valores x. Finalmente, se grafica la función usando **matplotlib**."
   ]
  },
  {
   "cell_type": "code",
   "execution_count": null,
   "metadata": {},
   "outputs": [],
   "source": [
    "import numpy as np\n",
    "import matplotlib.pyplot as plt\n",
    "from sympy import symbols, lambdify\n",
    "\n",
    "# Definimos la función cúbica\n",
    "x = symbols('x')\n",
    "func = x**3 - 2*x + 1\n",
    "\n",
    "# Convertimos la función en una función NumPy\n",
    "func_np = lambdify(x, func, 'numpy')\n",
    "\n",
    "# Creamos el rango de valores para x\n",
    "x_vals = np.linspace(-5, 5, 100)\n",
    "\n",
    "# Evaluamos la función en los valores de x\n",
    "y_vals = func_np(x_vals)\n",
    "\n",
    "# Creamos el gráfico\n",
    "plt.plot(x_vals, y_vals)\n",
    "plt.xlabel('x')\n",
    "plt.ylabel('y')\n",
    "plt.title('Polinomio de grado 3')\n",
    "plt.show()\n"
   ]
  },
  {
   "cell_type": "code",
   "execution_count": null,
   "metadata": {},
   "outputs": [],
   "source": [
    "Podemos construir una función a trozos mediante Sympy y, a continuación, al igual que el ejemplo anterior dibujarla con numpy."
   ]
  },
  {
   "cell_type": "code",
   "execution_count": null,
   "metadata": {},
   "outputs": [],
   "source": [
    "# Importar librerías necesarias\n",
    "import sympy as sp\n",
    "import matplotlib.pyplot as plt\n",
    "import numpy as np\n",
    "\n",
    "# Definir la variable simbólica\n",
    "x = sp.symbols('x')\n",
    "\n",
    "# Definir la función a trozos\n",
    "f = sp.Piecewise(\n",
    "    (x**2, x < -1),\n",
    "    (x + 1, (x >= -1) & (x <= 2)),\n",
    "    (sp.sin(x), x > 2)\n",
    ")\n",
    "\n",
    "# Mostrar la función simbólicamente\n",
    "display(sp.Eq(sp.Symbol('f(x)'), f))\n",
    "\n",
    "# Convertir a función numérica para graficar\n",
    "f_func = sp.lambdify(x, f, 'numpy')\n",
    "\n",
    "# Crear valores de x y evaluar\n",
    "x_vals = np.linspace(-5, 5, 400)\n",
    "y_vals = f_func(x_vals)\n",
    "\n",
    "# Graficar\n",
    "plt.figure(figsize=(8, 5))\n",
    "plt.plot(x_vals, y_vals, label='f(x)', color='blue')\n",
    "plt.title('Función a Trozos')\n",
    "plt.xlabel('x')\n",
    "plt.ylabel('f(x)')\n",
    "plt.grid(True)\n",
    "plt.legend()\n",
    "plt.show()\n"
   ]
  },
  {
   "cell_type": "markdown",
   "metadata": {},
   "source": [
    "### Ejercicio 4. La función sigmoide  \n",
    "\n",
    "La función \n",
    "$$\n",
    "\\sigma(x) = \\frac{1}{1 + e^{-x}}\n",
    "$$\n",
    "es ampliamente utilizada en redes neuronales como función de activación, especialmente en tareas de clasificación binaria.\n",
    "Construye la función con Sympy y haciendo uso del comando lambdify representa su gráfica en $[-10,10]$."
   ]
  },
  {
   "cell_type": "code",
   "execution_count": null,
   "metadata": {},
   "outputs": [],
   "source": [
    "# TU CÓDIGO AQUÍ"
   ]
  }
 ],
 "metadata": {
  "kernelspec": {
   "display_name": "Python 3 (ipykernel)",
   "language": "python",
   "name": "python3"
  },
  "language_info": {
   "codemirror_mode": {
    "name": "ipython",
    "version": 3
   },
   "file_extension": ".py",
   "mimetype": "text/x-python",
   "name": "python",
   "nbconvert_exporter": "python",
   "pygments_lexer": "ipython3",
   "version": "3.9.12"
  }
 },
 "nbformat": 4,
 "nbformat_minor": 4
}
