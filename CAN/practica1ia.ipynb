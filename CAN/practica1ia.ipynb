{
 "cells": [
  {
   "cell_type": "markdown",
   "metadata": {},
   "source": [
    "# Práctica 1 CAN-GIA. Introducción a NumPy\n",
    "\n",
    "## Introducción\n",
    "\n",
    "Existen una gran cantidad de librerías dedicadas a la implementación de métodos eficientes para manipular números y funciones. Existen incluso lenguajes y entornos de programación especialmente diseñados para este propósito, como **Fortran**, **Matlab** u **Octave**.\n",
    "\n",
    "En esta asignatura, emplearemos el lenguaje **Python** para resolver problemas de Cálculo y Análisis Numérico. En otras asignaturas del curso se verá la programación en **Python** con mayor profundidad. \n",
    "\n",
    "Empezaremos con las operaciones elementales. A continuación, introduciremos la librería **NumPy** (http://www.numpy.org/), que dispone de estructuras de datos y funciones para los cálculos numéricos, y se utiliza ampliamente para este fin. En esta práctica introductoria, exponemos  algunas funcionalidades básicas. En prácticas sucesivas, explicaremos algunas otras a medida que sean necesarias. Para descubrir más funcionalidades, podemos emplear buscadores y, en particular, la comunidad http://stackoverflow.com/.\n",
    "\n",
    "Los guiones de prácticas los ejecutaremos desde una instalación de **Python** con **Anaconda**. Basta con hacer clic en la aplicación *Jupyter Notebook* que ya está instalada por defecto (para más detalles: https://jupyter-notebook-beginner-guide.readthedocs.io/en/latest/execute.html).\n",
    "\n",
    "\n",
    "## Objetivos de la Práctica 1\n",
    "\n",
    "- Manejar operaciones numéricas elementales\n",
    "- Conocer los tipos de variables en **Python**\n",
    "- Conocer las funciones elementales de **NumPy**\n",
    "- Manipular vectores unidimensionales de números (`numpy.array`, indexado,...) \n",
    "- Representar funciones reales de variable real usando **NumPy**"
   ]
  },
  {
   "cell_type": "markdown",
   "metadata": {},
   "source": [
    "## Operaciones numéricas elementales\n",
    "\n",
    "Las operaciones básicas con los números se representan mediante + (suma), - (resta), * (multiplicación), / (división) y ** (potenciación).\n",
    "\n",
    "Al igual que en las calculadoras, las expresiones se evalúan de izquierda a derecha; la potencia tiene el orden de prioridad más alto, seguido del producto y la división (ambas con la misma prioridad); por último, están la suma y la resta (con igual prioridad entre ellas). Si se desea alterar este orden, se deben introducir\n",
    "paréntesis adecuadamente."
   ]
  },
  {
   "cell_type": "code",
   "execution_count": null,
   "metadata": {},
   "outputs": [],
   "source": [
    "8 + 4/2 - 1  # "
   ]
  },
  {
   "cell_type": "code",
   "execution_count": null,
   "metadata": {},
   "outputs": [],
   "source": [
    "(8 + 4)/2 - 1 # usamos paréntesis para priorizar las operaciones "
   ]
  },
  {
   "cell_type": "markdown",
   "metadata": {},
   "source": [
    "### Ejercicio 1. \n",
    "Emplea paréntesis en la expresión anterior para que el resultado sea 12.0."
   ]
  },
  {
   "cell_type": "code",
   "execution_count": null,
   "metadata": {},
   "outputs": [],
   "source": [
    "# TU CÓDIGO AQUÍ\n",
    "(8 + 4)/(2 - 1) "
   ]
  },
  {
   "cell_type": "markdown",
   "metadata": {},
   "source": [
    "Para elevar un número a otro, usamos la potenciación:"
   ]
  },
  {
   "cell_type": "code",
   "execution_count": null,
   "metadata": {},
   "outputs": [],
   "source": [
    "2**4"
   ]
  },
  {
   "cell_type": "markdown",
   "metadata": {},
   "source": [
    "## Trabajando con variables en Python\n",
    "\n",
    "Una variable es un identificador que hace referencia a una posición de memoria.\n",
    "\n",
    "Para crear una variable en **Python**, simplemente asignamos al identificador un valor. Por ejemplo: "
   ]
  },
  {
   "cell_type": "code",
   "execution_count": null,
   "metadata": {},
   "outputs": [],
   "source": [
    "a = 8 # La variable \"a\" toma el valor entero 8 \n",
    "base = 3.2 # La variable \"base\" toma el valor real 3.2\n",
    "gravedad = 9.81 # La variable \"gravedad\" toma el valor 9.81\n",
    "cadena = 'hola' # La variable \"cadena\" toma como valor la cadena de caracteres \"hola\"\n",
    "print(a,base,gravedad,cadena)"
   ]
  },
  {
   "cell_type": "markdown",
   "metadata": {},
   "source": [
    "En **Python** las variables no se declaran con un tipo determinado. Incluso podemos usar el mismo identificador para valores de distinto tipo: "
   ]
  },
  {
   "cell_type": "code",
   "execution_count": null,
   "metadata": {},
   "outputs": [],
   "source": [
    "a = 3.3\n",
    "a = 'vaya!'\n",
    "print(a)"
   ]
  },
  {
   "cell_type": "markdown",
   "metadata": {},
   "source": [
    "Para conocer el tipo de una variable, usamos el comando `type`"
   ]
  },
  {
   "cell_type": "code",
   "execution_count": 1,
   "metadata": {},
   "outputs": [
    {
     "ename": "NameError",
     "evalue": "name 'a' is not defined",
     "output_type": "error",
     "traceback": [
      "\u001b[1;31m---------------------------------------------------------------------------\u001b[0m",
      "\u001b[1;31mNameError\u001b[0m                                 Traceback (most recent call last)",
      "Cell \u001b[1;32mIn[1], line 1\u001b[0m\n\u001b[1;32m----> 1\u001b[0m \u001b[38;5;28mprint\u001b[39m(\u001b[38;5;28mtype\u001b[39m(a))\n\u001b[0;32m      2\u001b[0m \u001b[38;5;28misinstance\u001b[39m(a,\u001b[38;5;28mfloat\u001b[39m)\n",
      "\u001b[1;31mNameError\u001b[0m: name 'a' is not defined"
     ]
    }
   ],
   "source": [
    "print(type(a))\n",
    "isinstance(a,float)"
   ]
  },
  {
   "cell_type": "markdown",
   "metadata": {},
   "source": [
    "Se puede especificar el tipo de dato de una variable como sigue:"
   ]
  },
  {
   "cell_type": "code",
   "execution_count": null,
   "metadata": {},
   "outputs": [],
   "source": [
    "a = int(5) # La variable \"a\" toma el valor entero 5\n",
    "b = float(5) # La variable \"a\" toma el valor real 5.0\n",
    "c = str(5) #  La variable \"a\" es la cadena de caracteres '5'\n",
    "print(a,b,c)"
   ]
  },
  {
   "cell_type": "markdown",
   "metadata": {},
   "source": [
    "**¡OJO!** En los nombres de variables, se distinguen las mayúsculas de las minúsculas: "
   ]
  },
  {
   "cell_type": "code",
   "execution_count": null,
   "metadata": {},
   "outputs": [],
   "source": [
    "a = -6.7\n",
    "A = 2.3\n",
    "print(a)\n",
    "print(A)"
   ]
  },
  {
   "cell_type": "markdown",
   "metadata": {},
   "source": [
    "## Cómo importar el módulo **NumPy**\n",
    "\n",
    "Para tener disponible **NumPy** en el código, se debe importar el módulo correspondiente. Habitualmente, **NumPy** se importa usando la abreviatura '`np`', como sigue: "
   ]
  },
  {
   "cell_type": "code",
   "execution_count": null,
   "metadata": {},
   "outputs": [],
   "source": [
    "import numpy as np"
   ]
  },
  {
   "cell_type": "markdown",
   "metadata": {},
   "source": [
    "## Algunas funciones matemáticas en **NumPy**\n",
    "\n",
    "### Funciones trigonométricas\n",
    "\n",
    "Las funciones trigonométricas usuales están implementadas en **NumPy**. Los argumentos de las funciones `np.sin`, `np.cos` y `np.tan` deben estar en radianes."
   ]
  },
  {
   "cell_type": "code",
   "execution_count": 3,
   "metadata": {},
   "outputs": [
    {
     "name": "stdout",
     "output_type": "stream",
     "text": [
      "1.0 6.123233995736766e-17 1.633123935319537e+16\n",
      "1.5707963267948966 1.5707963267948966 0.0\n"
     ]
    }
   ],
   "source": [
    "import numpy as np\n",
    "alfa = np.pi/2 # alfa es pi/2\n",
    "\n",
    "# Calculamos seno, coseno y tangente de pi/2 \n",
    "seno = np.sin(alfa)\n",
    "coseno = np.cos(alfa) \n",
    "tangente = np.tan(alfa) \n",
    "print(seno, coseno, tangente) # ¡OJO! Fíjate en el resultado... ¿Qué ocurre?\n",
    "\n",
    "# Calculamos ahora las funciones trigonométricas inversas:\n",
    "arco_seno = np.arcsin(1) \n",
    "arco_coseno = np.arccos(0) \n",
    "arco_tangente = np.arctan(0)\n",
    "print(arco_seno, arco_coseno, arco_tangente)"
   ]
  },
  {
   "cell_type": "markdown",
   "metadata": {},
   "source": [
    "### Exponenciales y logaritmos\n",
    "\n",
    "La función `np.exp` implementa la exponencial de base $e$, mientras que `np.log` implementa el logaritmo neperiano. Recordad que estas funciones son inversas la una de la otra:"
   ]
  },
  {
   "cell_type": "code",
   "execution_count": null,
   "metadata": {},
   "outputs": [],
   "source": [
    "e = np.exp(1)\n",
    "print(e)\n",
    "print(np.log(np.exp(1)))"
   ]
  },
  {
   "cell_type": "markdown",
   "metadata": {},
   "source": [
    "También tenemos una función que implementa la exponencial en base $2$, `np.exp2`, y su inversa, el logaritmo en base $2$, `np.log2`:"
   ]
  },
  {
   "cell_type": "code",
   "execution_count": null,
   "metadata": {},
   "outputs": [],
   "source": [
    "print(np.exp2(3))\n",
    "print(np.log2(1))"
   ]
  },
  {
   "cell_type": "markdown",
   "metadata": {},
   "source": [
    "Finalmente, tenemos el logaritmo decimal, `np.log10`:"
   ]
  },
  {
   "cell_type": "code",
   "execution_count": null,
   "metadata": {},
   "outputs": [],
   "source": [
    "print(np.log10(10**5))"
   ]
  },
  {
   "cell_type": "markdown",
   "metadata": {},
   "source": [
    "### Funciones hiperbólicas\n",
    "\n",
    "Las funciones hiperbólicas *seno hiperbólico*, *coseno hiperbólico* y *tangente hiperbólica* están implementadas en las funciones **Python** `np.sinh`, `np.cosh` y `np.tanh`, respectivamente:"
   ]
  },
  {
   "cell_type": "code",
   "execution_count": null,
   "metadata": {},
   "outputs": [],
   "source": [
    "a = np.sinh(1) \n",
    "b = np.cosh(1) \n",
    "c = np.tanh(1)\n",
    "print(a,b,c)"
   ]
  },
  {
   "cell_type": "markdown",
   "metadata": {},
   "source": [
    "**NumPy** también dispone de las funciones hiperbólicas inversas, `np.arcsinh`, `np.arccosh`y `np.arctanh`."
   ]
  },
  {
   "cell_type": "markdown",
   "metadata": {},
   "source": [
    "## Vectores de números\n",
    "\n",
    "En **Python** existen varias formas de guardar datos numéricos, como por ejemplo, la estructura *lista* o *tupla*. Las listas pueden contener datos de diferente naturaleza (combinaciones de números enteros, reales, listas de listas, etc.). Usando un índice, se puede acceder a cada uno de los elementos de la lista. Es importante notar que en **Python** los valores de los índices comienzan en cero. La flexibilidad que ofrecen las listas hace que su rendimiento computacional sea muy limitado. "
   ]
  },
  {
   "cell_type": "code",
   "execution_count": null,
   "metadata": {},
   "outputs": [],
   "source": [
    "lista = [2, -3.0, 'hola', [1, 2]]\n",
    "print(lista[0])\n",
    "print(lista[3])"
   ]
  },
  {
   "cell_type": "markdown",
   "metadata": {},
   "source": [
    "En la mayoría de las aplicaciones científicas en matemáticas e inteligencia artificial, los problemas reales involucran operaciones sobre enormes conjuntos de datos. Como consecuencia, la velocidad computacional es muy importante. Para trabajar de forma eficiente en estos casos, **NumPy** proporciona funciones especializadas y estructuras de datos para el cálculo numérico eficiente. En particular, se emplean arreglos de números (del inglés, *array*) de un mismo tipo (perdiendo parte de la flexibilidad de las listas, pero ganando eficiencia computacional)."
   ]
  },
  {
   "cell_type": "code",
   "execution_count": null,
   "metadata": {},
   "outputs": [],
   "source": [
    "arreglo = np.array([2,-3.0])\n",
    "arreglo[0]"
   ]
  },
  {
   "cell_type": "markdown",
   "metadata": {},
   "source": [
    "### Vectores unidimensionales\n",
    "\n",
    "Un vector unidimensional es una colección ordenada de números a los que se puede acceder mediante un índice (se preserva el orden). Por defecto, los vectores en **NumPy** son vectores fila."
   ]
  },
  {
   "cell_type": "markdown",
   "metadata": {},
   "source": [
    "#### Creación de vectores e indexado \n",
    "\n",
    "Para crear un vector **NumPy** de longitud $10$ inicializado con ceros, empleamos la función `np.zeros()`:"
   ]
  },
  {
   "cell_type": "code",
   "execution_count": null,
   "metadata": {},
   "outputs": [],
   "source": [
    "u = np.zeros(10)\n",
    "print(u)\n",
    "print(type(u))"
   ]
  },
  {
   "cell_type": "markdown",
   "metadata": {},
   "source": [
    "El tipo por defecto de los números que contienen los vectores en **NumPy** es `float64` (que es el tipo guardado en `np.float`). Si se desea usar otros tipos, habría que emplear el argumento opcional `dtype`. El tipo de los números que contiene un vector se comprueba mediante el atributo `dtype` de los vectores **NumPy**:"
   ]
  },
  {
   "cell_type": "code",
   "execution_count": null,
   "metadata": {},
   "outputs": [],
   "source": [
    "print(u.dtype)\n",
    "\n",
    "w = np.zeros(5, dtype=int)\n",
    "print(w)\n",
    "print(type(w))\n",
    "print(w.dtype)"
   ]
  },
  {
   "cell_type": "markdown",
   "metadata": {},
   "source": [
    "No es posible, por ejemplo, añadir un valor cadena de texto (de tipo `string`) a un objeto `np.array`, ya que todos los elementos del vector deben ser del mismo tipo (o de un tipo que admita una conversión). \n",
    "\n",
    "Para comprobar el tamaño de un vector, disponemos de la función `len`:"
   ]
  },
  {
   "cell_type": "code",
   "execution_count": null,
   "metadata": {},
   "outputs": [],
   "source": [
    "print(len(u))\n",
    "v = np.zeros(10, dtype=np.int)\n",
    "print(v)\n",
    "print(u + v) # Implícitamente, hacemos una conversión de tipo de int64 a float64\n",
    "print(u + w) # ERROR: ¡los vectores no tienen el mismo tamaño!"
   ]
  },
  {
   "cell_type": "markdown",
   "metadata": {},
   "source": [
    "Podemos modificar las componentes de un vector accediendo al mismo mediante sus índices:"
   ]
  },
  {
   "cell_type": "code",
   "execution_count": null,
   "metadata": {},
   "outputs": [],
   "source": [
    "print(u)\n",
    "u[0] = 10.0\n",
    "u[3] = -4.3\n",
    "u[9] = 1.0\n",
    "print(u)"
   ]
  },
  {
   "cell_type": "markdown",
   "metadata": {},
   "source": [
    "Una forma de comprobar la dimensión de un vector es usar `u.shape`, que nos devuelve una tupla con las dimensiones del vector:"
   ]
  },
  {
   "cell_type": "code",
   "execution_count": null,
   "metadata": {},
   "outputs": [],
   "source": [
    "print(u.shape)"
   ]
  },
  {
   "cell_type": "markdown",
   "metadata": {},
   "source": [
    "`shape` nos informa del tamaño del *array* en cada dirección. En el caso de vectores, solamente hay una dirección, mientras que en conjuntos de datos con múltiples índices (como por ejemplo, matrices), `shape` nos informa del tamaño de esta estructura de datos en cada dirección. Por ejemplo, si $A$ es una matriz de ceros de tipo entero de tamaño $2\\times 3$, se tiene:"
   ]
  },
  {
   "cell_type": "code",
   "execution_count": 4,
   "metadata": {},
   "outputs": [
    {
     "name": "stdout",
     "output_type": "stream",
     "text": [
      "[[0 0 0]\n",
      " [0 0 0]]\n",
      "(2, 3)\n"
     ]
    }
   ],
   "source": [
    "A =  np.zeros((2,3), dtype=int)\n",
    "print(A)\n",
    "print(A.shape)"
   ]
  },
  {
   "cell_type": "markdown",
   "metadata": {},
   "source": [
    "Existen otras maneras de crear vectores. Por ejemplo, la función `ones` crea un vector que contiene solamente *unos*:"
   ]
  },
  {
   "cell_type": "code",
   "execution_count": null,
   "metadata": {},
   "outputs": [],
   "source": [
    "w = np.ones(5)\n",
    "print(w)\n",
    "print(w.dtype)"
   ]
  },
  {
   "cell_type": "markdown",
   "metadata": {},
   "source": [
    "La función `random.rand` permite crear un vector de valores aleatorios:"
   ]
  },
  {
   "cell_type": "code",
   "execution_count": null,
   "metadata": {},
   "outputs": [],
   "source": [
    "w = np.random.rand(6)\n",
    "print(w)"
   ]
  },
  {
   "cell_type": "markdown",
   "metadata": {},
   "source": [
    "También es posible crear vectores de números de tipo `np.array` a partir de una lista **Python** de números:"
   ]
  },
  {
   "cell_type": "code",
   "execution_count": null,
   "metadata": {},
   "outputs": [],
   "source": [
    "u = [4.0, 8.0, 9.0, 11.0, -2.0] #lista\n",
    "v = np.array(u) # array\n",
    "print(v)"
   ]
  },
  {
   "cell_type": "markdown",
   "metadata": {},
   "source": [
    "Existen al menos otros dos métodos para crear vectores de números que nos serán muy útiles en esta asignatura, especialmente cuando tengamos que representar gráficamente funciones en una o en varias variables. Se trata de los comandos `np.arange` y `np.linspace`.\n",
    "\n",
    "La función `np.arange` crea un vector con valores enteros consecutivos. Así, para crear el vector fila $\\vec{u}=(0, 1, 2, 3, 4, 5)$ usando `np.arange`, escribimos:"
   ]
  },
  {
   "cell_type": "code",
   "execution_count": null,
   "metadata": {},
   "outputs": [],
   "source": [
    "u = np.arange(6)\n",
    "print(u)\n",
    "print(type(u))\n",
    "print(u.dtype)"
   ]
  },
  {
   "cell_type": "markdown",
   "metadata": {},
   "source": [
    "Notamos que el número $6$ no está incluido en $\\vec{u}$, ya que el rango de valores comienza en $0$ y el vector solamente posee seis elementos. \n",
    "\n",
    "Es posible cambiar el valor numérico en el que comienza el vector, como sigue:"
   ]
  },
  {
   "cell_type": "code",
   "execution_count": null,
   "metadata": {},
   "outputs": [],
   "source": [
    "u = np.arange(3, 6)\n",
    "print(u)"
   ]
  },
  {
   "cell_type": "markdown",
   "metadata": {},
   "source": [
    "Finalmente, la función `linspace` crea un vector de números igualmente espaciados entre el primer valor dado y el segundo (ambos incluidos). Se generan tantos números como indica el tercer argumento. Por ejemplo:"
   ]
  },
  {
   "cell_type": "code",
   "execution_count": null,
   "metadata": {},
   "outputs": [],
   "source": [
    "w = np.linspace(0., 10., 6)\n",
    "print(w)\n",
    "print(w.dtype)"
   ]
  },
  {
   "cell_type": "markdown",
   "metadata": {},
   "source": [
    "La función `linspace` se usará de forma extensiva junto con la función `meshgrid` para representar gráficamente funciones de una y de varias variables."
   ]
  },
  {
   "cell_type": "markdown",
   "metadata": {},
   "source": [
    "### Ejercicio 2. \n",
    "\n",
    "1. Crea un vector en **NumPy** de $5$ puntos igualmente espaciados en el intervalo $[0,1]$ a partir de una lista. \n",
    "2. Crea un vector en **NumPy** de $15$ puntos igualmente espaciados en el intervalo $[0,1]$, incluyendo los extremos."
   ]
  },
  {
   "cell_type": "code",
   "execution_count": null,
   "metadata": {},
   "outputs": [],
   "source": [
    "# TU CÓDIGO AQUÍ\n",
    "# 2.1\n",
    "lista = [0, 0.25, 0.5, 0.75, 1]\n",
    "vector = np.array(lista)\n",
    "print(vector)\n",
    "\n",
    "# 2.2\n",
    "vector15 = np.linspace(0,1,15)\n",
    "print(vector15)"
   ]
  },
  {
   "cell_type": "markdown",
   "metadata": {},
   "source": [
    "#### Funciones y aritmética sobre vectores\n",
    "\n",
    "Los vectores en **NumPy** soportan las operaciones aritméticas básicas, tales como el producto por un escalar, sumas y restas:"
   ]
  },
  {
   "cell_type": "code",
   "execution_count": null,
   "metadata": {},
   "outputs": [],
   "source": [
    "a = np.array([1.0, 0.2, 1.2])\n",
    "b = np.array([2.0, 0.1, 2.1])\n",
    "\n",
    "print('a = ',a)\n",
    "print('b = ',b)\n",
    "\n",
    "c = 10.0*a # Producto de todos los elementos de a por un escalar\n",
    "print(c)\n",
    "\n",
    "c = a + b # Suma de a y b (deben tener el mismo tamaño)\n",
    "print(c)"
   ]
  },
  {
   "cell_type": "markdown",
   "metadata": {},
   "source": [
    "Para elevar las componentes de un vector a una potencia, escribimos:"
   ]
  },
  {
   "cell_type": "code",
   "execution_count": null,
   "metadata": {},
   "outputs": [],
   "source": [
    "a = np.array([2, 3, 4])\n",
    "print(a**2)"
   ]
  },
  {
   "cell_type": "markdown",
   "metadata": {},
   "source": [
    "También se pueden aplicar las funciones de cálculo usual a cada una de las componentes de un vector con una única instrucción:"
   ]
  },
  {
   "cell_type": "code",
   "execution_count": null,
   "metadata": {},
   "outputs": [],
   "source": [
    "a = np.array([0.0, np.pi/2, np.pi, 3*np.pi/2]) # Crea el vector [0, π/2, π, 3π/2]\n",
    "print(a)\n",
    "\n",
    "# Alternativamente...\n",
    "c = np.linspace(0,3*np.pi/2,4) # Crea el vector [0, π/2, π, 3π/2] usando linspace\n",
    "print(c)\n",
    "\n",
    "b = np.sin(a) # Calcula el seno de cada componente del vector a\n",
    "print(b)"
   ]
  },
  {
   "cell_type": "markdown",
   "metadata": {},
   "source": [
    "El código anterior calcula el seno de cada componente del vector `a`. Notamos que la función que se está empleando es `np.sin`, que depende directamente del módulo **NumPy**. "
   ]
  },
  {
   "cell_type": "markdown",
   "metadata": {},
   "source": [
    "También podemos calcular el seno de cada componente del vector, accediendo a cada uno de los elementos mediante su índice y haciendo los cálculos en el interior de un bucle (o *lazo*) `for`, como sigue:"
   ]
  },
  {
   "cell_type": "code",
   "execution_count": null,
   "metadata": {},
   "outputs": [],
   "source": [
    "b = np.zeros(len(a))\n",
    "\n",
    "for i in range(len(a)):\n",
    "    b[i] = np.sin(a[i])\n",
    "\n",
    "print(b)"
   ]
  },
  {
   "cell_type": "markdown",
   "metadata": {},
   "source": [
    "En este caso, el programa es más largo y difícil de leer. Además, en muchos casos será más lento. \n",
    "\n",
    "La manipulación de vectores en cualquier cálculo realizado entre ellos sin acceder a sus índices se denomina *vectorización*. Cuando sea posible, emplear vectorización incrementará el rendimiento de velocidad de los códigos de cálculo. "
   ]
  },
  {
   "cell_type": "markdown",
   "metadata": {},
   "source": [
    "### Ejercicio 3. \n",
    "\n",
    "Construye un vector $\\vec{v}$ en **NumPy** con $4$ componentes que contenga el coseno de los ángulos $0,\\dfrac{\\pi}{6},\\dfrac{\\pi}{3},\\pi$, respectivamente. Utiliza el menor número de instrucciones que te sea posible."
   ]
  },
  {
   "cell_type": "code",
   "execution_count": null,
   "metadata": {},
   "outputs": [],
   "source": [
    "# TU CÓDIGO AQUÍ"
   ]
  },
  {
   "cell_type": "markdown",
   "metadata": {},
   "source": [
    "#### *Rebanado* de vectores\n",
    "\n",
    "Cuando se trabaja con vectores de números, es habitual tener que extraer un subconjunto de un vector dado para crear un nuevo vector. Por ejemplo, para obtener las tres primeras componentes de un vector o, en el caso de matrices, para restringir los cálculos a su segunda columna. Este tipo de operaciones se denomina *troceado* o *rebanado* de vectores (del inglés *array slicing*). \n",
    "\n",
    "Exploramos el *troceado* de vectores mediante varios ejemplos. Comenzamos con un vector de valores aleatorios:"
   ]
  },
  {
   "cell_type": "code",
   "execution_count": null,
   "metadata": {},
   "outputs": [],
   "source": [
    "a = np.random.rand(5)\n",
    "print(a)"
   ]
  },
  {
   "cell_type": "markdown",
   "metadata": {},
   "source": [
    "Realizamos varias operaciones de troceado:"
   ]
  },
  {
   "cell_type": "code",
   "execution_count": null,
   "metadata": {},
   "outputs": [],
   "source": [
    "# Usar ':' implica el conjunto entero en el rango de los índices, es decir, desde 0 hasta (longitud-1)\n",
    "b = a[:]\n",
    "print(\"Troceado usando '[:]' {}\",b)\n",
    "\n",
    "# Usar '1:3' hace referencia a los índices 1 -> 3 (sin incluir al 3)\n",
    "b = a[1:3]\n",
    "print(\"Troceado usando '[1:3]': {}\",b)\n",
    "\n",
    "# Usar '2:-1' hace referencia a los índices 2 -> el segundo desde el final (sin incluirlo)\n",
    "b = a[2:-1]\n",
    "print(\"Troceado usando '[2:-1]': {}\",b)\n",
    "\n",
    "# Usar '2:-2' hace referencia a los índices 2 -> el tercero desde el final (sin incluirlo)\n",
    "b = a[2:-2]\n",
    "print(\"Troceado usando '[2:-2]': {}\",b)"
   ]
  },
  {
   "cell_type": "markdown",
   "metadata": {},
   "source": [
    "> **NOTA**: El índice `-1` se corresponde con el último elemento del vector. De modo similar, el índice `-2` está vinculado al segundo elemento comenzando por el final, etc. Este convenio de referenciar índices desde el final de un vector es muy útil, ya que el uso de índices negativos, puede hacer referencia a las últimas componentes de un vector sin tener que indicar el tamaño del vector."
   ]
  },
  {
   "cell_type": "markdown",
   "metadata": {},
   "source": [
    "Para *trocear* un vector desde el inicio o desde el final del mismo, empleamos la sintaxis de índices con '`:`'"
   ]
  },
  {
   "cell_type": "code",
   "execution_count": null,
   "metadata": {},
   "outputs": [],
   "source": [
    "# Usar ':3' implica usar índices desde el inicio hasta 3 (sin incluir el índice 3)\n",
    "b = a[:3]\n",
    "print(\"Troceado usando '[:3]': {}\",b)\n",
    "\n",
    "# Usar '4:' implica los índices desde 4 -> hasta el final\n",
    "b = a[4:]\n",
    "print(\"Troceado usando '[4:]': {}\",b)\n",
    "\n",
    "# Usar ':' implica todos los índices desde el inicio hasta el final\n",
    "b = a[:]\n",
    "print(\"Troceado usando '[:]': {}\",b)"
   ]
  },
  {
   "cell_type": "markdown",
   "metadata": {},
   "source": [
    "El *troceado* también se puede aplicar sobre matrices:"
   ]
  },
  {
   "cell_type": "code",
   "execution_count": null,
   "metadata": {},
   "outputs": [],
   "source": [
    "B = np.array([[1.3, 0], [0, 2.0]])\n",
    "print(B)\n",
    "\n",
    "row0 = B[0,:]\n",
    "print(row0)\n",
    "\n",
    "# Extraer la segunda fila\n",
    "row = B[1, :]\n",
    "print(row)\n",
    "\n",
    "# Extraer la primera columna (almacenada en un vector fila)\n",
    "col = B[:, 0] \n",
    "print(col)"
   ]
  },
  {
   "cell_type": "markdown",
   "metadata": {},
   "source": [
    "Existen muchas otras estrategias y sintaxis relacionadas con el troceado de vectores, que quedan fuera del alcance de esta breve introdución a **NumPy**. Para una información más detallada, se puede consultar: https://docs.scipy.org/doc/numpy/reference/arrays.indexing.html"
   ]
  },
  {
   "cell_type": "markdown",
   "metadata": {},
   "source": [
    "### Ejercicio 4.\n",
    "\n",
    "Considera el vector $\\vec{v}$ definido en el ejercicio 3. Obtén a partir de $\\vec{v}$ un vector que...\n",
    "1. contenga desde la segunda componente de $\\vec{v}$ hasta la última.\n",
    "2. contenga las componentes $2$ y $3$ de $\\vec{v}$.\n",
    "3. contenga la última componente de $\\vec{v}$.\n",
    "4. contenga las dos primeras componentes de $\\vec{v}$."
   ]
  },
  {
   "cell_type": "code",
   "execution_count": null,
   "metadata": {},
   "outputs": [],
   "source": [
    "#TU CÓDIGO AQUÍ"
   ]
  },
  {
   "cell_type": "markdown",
   "metadata": {},
   "source": [
    "## Representación de funciones con **NumPy**"
   ]
  },
  {
   "cell_type": "markdown",
   "metadata": {},
   "source": [
    "Para poder representar funciones reales de una variable real, debemos importar la librería **matplotlib.pyplot**."
   ]
  },
  {
   "cell_type": "code",
   "execution_count": null,
   "metadata": {},
   "outputs": [],
   "source": [
    "import matplotlib.pyplot as plt"
   ]
  },
  {
   "cell_type": "markdown",
   "metadata": {},
   "source": [
    "Construimos las tres funciones que vamos a representar gráficamente: \n",
    "$$\n",
    "f_1(x)=0.2x^2-\\pi x-5,\\quad  f_2(x)=\\pi(\\sin(x)+\\sin(5x)),\\quad f_3(x)=\\pi^2\\sin(x)e^{-x/10}\n",
    "$$"
   ]
  },
  {
   "cell_type": "code",
   "execution_count": null,
   "metadata": {},
   "outputs": [],
   "source": [
    "def f1(x):\n",
    "    y = 0.2*x*x - np.pi*x - 5\n",
    "    return y\n",
    "\n",
    "def f2(x):\n",
    "    y = np.pi*(np.sin(x) + np.sin(5.0*x))\n",
    "    return y\n",
    "\n",
    "\n",
    "def f3(x):\n",
    "    y = np.pi**2 * np.sin(x) * np.exp(-x/10.)\n",
    "    return y\n"
   ]
  },
  {
   "cell_type": "markdown",
   "metadata": {},
   "source": [
    "Construimos un vector con $50$ puntos equiespaciados en el intervalo $[0,10\\pi]$:"
   ]
  },
  {
   "cell_type": "code",
   "execution_count": null,
   "metadata": {},
   "outputs": [],
   "source": [
    "x = np.linspace(0, 10*np.pi, 500) # Array de abscisas"
   ]
  },
  {
   "cell_type": "markdown",
   "metadata": {},
   "source": [
    "Representamos las funciones $f_1$, $f_2$ y $f_3$ en la misma ventana gráfica mediante el comando `plt.plot`. Añadimos etiquetas a los ejes mediante las instrucciones `plt.xlabel` y `plt.ylabel`. También añadimos el título de la gráfica, mediante `plt.title`."
   ]
  },
  {
   "cell_type": "code",
   "execution_count": null,
   "metadata": {},
   "outputs": [],
   "source": [
    "plt.xlabel('Tiempo (s)')\n",
    "plt.ylabel('Amplitud (cm)')\n",
    "plt.title('Representacion de tres funciones')\n",
    "\n",
    "p1, p2, p3 = plt.plot(x, f1(x), x, f2(x), x, f3(x))\n",
    "plt.legend(('polinómica', 'trigonométrica', 'exponencial'))"
   ]
  },
  {
   "cell_type": "markdown",
   "metadata": {},
   "source": [
    "De forma alternativa, podemos definir funciones mediante la instrucción **lambda**, como sigue:"
   ]
  },
  {
   "cell_type": "code",
   "execution_count": null,
   "metadata": {},
   "outputs": [],
   "source": [
    "a = -5.; b = 5.; x = np.linspace(a,b,50); # Ahora x contiene 50 puntos igualmente distribuidos entre a y b (incluidos)\n",
    "\n",
    "fsh = lambda x: np.sinh(x)\n",
    "ysinh = fsh(x)\n",
    "\n",
    "plt.figure()\n",
    "plt.plot(x,ysinh,label='sinh')\n",
    "plt.title('Seno hiperbólico')\n",
    "plt.legend()\n",
    "\n",
    "fch = lambda x: np.cosh(x)\n",
    "ycosh = fch(x)\n",
    "\n",
    "plt.figure()\n",
    "plt.plot(x,ycosh,label='cosh')\n",
    "plt.title('Coseno hiperbólico')\n",
    "plt.legend()"
   ]
  },
  {
   "cell_type": "markdown",
   "metadata": {},
   "source": [
    "La instrucción `plt.legend` genera una leyenda en la ventana gráfica. "
   ]
  },
  {
   "cell_type": "markdown",
   "metadata": {},
   "source": [
    "Representamos ahora la función tangente hiperbólica en el intervalo $[a,b]$:"
   ]
  },
  {
   "cell_type": "code",
   "execution_count": null,
   "metadata": {},
   "outputs": [],
   "source": [
    "fth = lambda x: np.tanh(x)\n",
    "ytanh = fth(x)\n",
    "\n",
    "plt.figure()\n",
    "plt.plot(x,ytanh,label='tanh')\n",
    "plt.title('Tangente hiperbólica')\n",
    "plt.legend()"
   ]
  },
  {
   "cell_type": "markdown",
   "metadata": {},
   "source": [
    "### Ejercicio 5. \n",
    "\n",
    "Representa sobre la misma figura las tres funciones hiperbólicas (seno, coseno y tangente) en el intervalo $[-3,10]$, debidamente etiquetadas."
   ]
  },
  {
   "cell_type": "code",
   "execution_count": null,
   "metadata": {},
   "outputs": [],
   "source": [
    "# TU CÓDIGO AQUÍ"
   ]
  },
  {
   "cell_type": "markdown",
   "metadata": {},
   "source": [
    "#### Funciones definidas a trozos\n",
    "\n",
    "A continuación, vemos cómo construir y representar gráficamente la función definida a trozos: \n",
    "$$\n",
    "f(x)=\\begin{cases} -x, & x\\in[-2,0),\\\\ \\sqrt{x}, & x\\in[0,6].\\end{cases}\n",
    "$$"
   ]
  },
  {
   "cell_type": "code",
   "execution_count": null,
   "metadata": {},
   "outputs": [],
   "source": [
    "x = np.linspace(-2,6,50)\n",
    "ytrozos = np.piecewise(x, [x<0, x>=0], [lambda x: -x, lambda x: np.sqrt(x)])\n",
    "plt.figure()\n",
    "plt.plot(x,ytrozos,label='ytrozos')\n",
    "plt.title('Función a trozos')\n",
    "plt.legend()"
   ]
  },
  {
   "cell_type": "markdown",
   "metadata": {},
   "source": [
    "### Ejercicio 6.\n",
    "\n",
    "Representa gráficamente la función siguiente:\n",
    "$$\n",
    "f(x)=\\begin{cases} -x^3+\\sin(\\pi x), & x\\in[-6,-1),\\\\ x^2-3, & x\\in[-1,2),\\\\ e^{x-1}-10, &x\\in[2,3]\\end{cases}\n",
    "$$"
   ]
  },
  {
   "cell_type": "code",
   "execution_count": null,
   "metadata": {},
   "outputs": [],
   "source": [
    "# TU CÓDIGO AQUÍ\n",
    "x = np.linspace(-6,3,100)\n",
    "ytrozos = np.piecewise(x, [x<-1, (x>=-1) & (x<2), x>=2], [lambda x: -x**3 + np.sin(np.pi*x), lambda x: x**2 - 3, lambda x: np.exp(x-1) - 10])\n",
    "plt.figure()\n",
    "plt.plot(x,ytrozos,label='ytrozos')\n",
    "plt.title('Función a trozos')\n",
    "plt.legend()"
   ]
  },
  {
   "cell_type": "markdown",
   "metadata": {},
   "source": [
    "## Referencias\n",
    "\n",
    "1. R. Johansson, Numerical Python: Scientific Computing and Data Science Applications with Numpy, SciPy and Matplotlib, Apress, 2018.  "
   ]
  }
 ],
 "metadata": {
  "celltoolbar": "Slideshow",
  "kernelspec": {
   "display_name": "Python [conda env:base] *",
   "language": "python",
   "name": "conda-base-py"
  },
  "language_info": {
   "codemirror_mode": {
    "name": "ipython",
    "version": 3
   },
   "file_extension": ".py",
   "mimetype": "text/x-python",
   "name": "python",
   "nbconvert_exporter": "python",
   "pygments_lexer": "ipython3",
   "version": "3.13.5"
  }
 },
 "nbformat": 4,
 "nbformat_minor": 4
}
