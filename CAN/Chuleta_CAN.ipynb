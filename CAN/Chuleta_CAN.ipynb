{
 "cells": [
  {
   "cell_type": "markdown",
   "id": "74f64611",
   "metadata": {},
   "source": [
    "### **Funciones básicas de Python**\n"
   ]
  },
  {
   "cell_type": "code",
   "execution_count": null,
   "id": "1ede60be",
   "metadata": {},
   "outputs": [
    {
     "name": "stdout",
     "output_type": "stream",
     "text": [
      "<class 'int'>\n"
     ]
    }
   ],
   "source": [
    "A = 5\n",
    "\n",
    "print(type(A)) # Tipo de la variable A \n",
    "\n",
    "A2 = int(A) # Convertir en número entero\n",
    "A3 = float(A) # Convertir en número decimal\n",
    "A4 = str(A) # Convertir en cadena de texto\n",
    "# Ojo: no podemos transformar una cadena a int o float"
   ]
  },
  {
   "cell_type": "markdown",
   "id": "3e1ebcb8",
   "metadata": {},
   "source": [
    "### **Importar librerías**"
   ]
  },
  {
   "cell_type": "code",
   "execution_count": null,
   "id": "ce21b31f",
   "metadata": {},
   "outputs": [],
   "source": [
    "# Opción 1:\n",
    "import numpy # Importamos la librería a . Tenemos que nombrarla antes de cada función\n",
    "\n",
    "B = numpy.sin(3)\n"
   ]
  },
  {
   "cell_type": "code",
   "execution_count": null,
   "id": "4288e0c6",
   "metadata": {},
   "outputs": [],
   "source": [
    "import numpy as np # Importamos la librería junto a un \"alias\" para usarla cómodamente\n",
    "\n",
    "C = np.sin(3)"
   ]
  },
  {
   "cell_type": "code",
   "execution_count": null,
   "id": "467e2d43",
   "metadata": {},
   "outputs": [],
   "source": [
    "from numpy import sin # De la librería solo importamos la función sin\n",
    "D = sin(3) \n",
    "D2 = cos(3) # En este caso, la función del coseno no funciona, pues no la hemos importado"
   ]
  },
  {
   "cell_type": "code",
   "execution_count": null,
   "id": "c024572d",
   "metadata": {},
   "outputs": [],
   "source": [
    "from numpy import * # Importamos todas las funciones de la librería \"una a una\"\n",
    "# Podemos usar todas las funciones sin nombrar la librería\n",
    "E = sin(3)\n",
    "E2= cos(3)\n",
    "E3 = pi\n",
    "# No recomendable para programas complejos"
   ]
  },
  {
   "cell_type": "markdown",
   "id": "59ffaf5a",
   "metadata": {},
   "source": [
    "## **Algunas funciones de numpy**"
   ]
  },
  {
   "cell_type": "code",
   "execution_count": null,
   "id": "49bdea05",
   "metadata": {},
   "outputs": [],
   "source": [
    "A = np.pi # A = 3.1415...\n",
    "\n",
    "B = np.sin() # Seno\n",
    "C = np.cos() # Coseno\n",
    "D = np.tan() # Tangente\n",
    "\n",
    "# OJO: estas funciones trabajan en RADIANES\n",
    "\n",
    "B2= np.arcsin(1) # Arco seno\n",
    "C2 = np.arccos(0) # Arco coseno\n",
    "D2 = np.arctan(0) # Arco tangente"
   ]
  },
  {
   "cell_type": "code",
   "execution_count": null,
   "id": "c14d804a",
   "metadata": {},
   "outputs": [],
   "source": [
    "A = np.exp(1) # e^1\n",
    "B = np.exp2(3) # 2^3\n",
    "\n",
    "A2 = np.log(1) # ln(1)\n",
    "B2 = np.log2(3) # log(3) (Base 2)\n",
    "C2 = np.log10(4) # log(4) (Base 10)"
   ]
  },
  {
   "cell_type": "code",
   "execution_count": null,
   "id": "95cfd9df",
   "metadata": {},
   "outputs": [],
   "source": [
    "# Funciones Hiperbólicas\n",
    "a = np.sinh(1) \n",
    "b = np.cosh(1) \n",
    "c = np.tanh(1)"
   ]
  },
  {
   "cell_type": "markdown",
   "id": "a515a7dc",
   "metadata": {},
   "source": [
    "#### **Vectores**"
   ]
  },
  {
   "cell_type": "code",
   "execution_count": null,
   "id": "717773d9",
   "metadata": {},
   "outputs": [],
   "source": [
    "# Vector básico de 3 dimensiones\n",
    "v = np.array([ 1 , 2 , 3])\n",
    "\n",
    "v.shape        # Dimensiones de la matriz\n",
    "v.size         # Número total de elementos\n",
    "v.ndim         # Número de dimensiones\n",
    "\n",
    "v[0]           # Primera componente\n",
    "v[1]           # Segunda componente\n",
    "# ...\n",
    "\n",
    "u = np.zeros(4)         # [ 0 , 0 , 0 , 0 ]\n",
    "w = np.ones(4)          # [ 1 , 1 , 1 , 1 ]\n",
    "z = np.random.rand(3)   # Valores aleatorios\n",
    "\n",
    "# A partir de una lista\n",
    "list = [ 2 , 5 , 12]\n",
    "v2 = array(list)"
   ]
  },
  {
   "cell_type": "code",
   "execution_count": null,
   "id": "85fd5acc",
   "metadata": {},
   "outputs": [],
   "source": [
    "# Longitud del vector\n",
    "print(len(v))\n",
    "\n",
    "print(u.shape)"
   ]
  },
  {
   "cell_type": "code",
   "execution_count": null,
   "id": "e4ef4307",
   "metadata": {},
   "outputs": [
    {
     "name": "stdout",
     "output_type": "stream",
     "text": [
      "[1.  4.5 8. ]\n"
     ]
    }
   ],
   "source": [
    "# Vectores de valores consecutivos y equiespaciados\n",
    "\n",
    "V1 = np.arange(0 , 7 , 2)       # [ 0 , 2 , 4 , 6 ] Vector de números entre el primer y segundo valor. Espaciados según el tercer argumento\n",
    "\n",
    "V2 = np.linspace( 1 , 8 , 3 )   # [ 1 , 4.5 , 8] Vector de tantos números igualmente espaciados como dice el tercer argumento entre el primer y segundo valor "
   ]
  },
  {
   "cell_type": "code",
   "execution_count": null,
   "id": "0f10d8e1",
   "metadata": {},
   "outputs": [],
   "source": [
    "a = np.array([1, 2])\n",
    "b = np.array([3, 4])\n",
    "\n",
    "np.concatenate([a, b])    # [1, 2, 3, 4]\n",
    "np.vstack([a, b])         # [[1, 2], [3, 4]]\n",
    "np.hstack([a, b])         # [1, 2, 3, 4]"
   ]
  },
  {
   "cell_type": "markdown",
   "id": "1fc71a4e",
   "metadata": {},
   "source": [
    "##### Operaciones"
   ]
  },
  {
   "cell_type": "code",
   "execution_count": null,
   "id": "4c73e0c3",
   "metadata": {},
   "outputs": [],
   "source": [
    "a = np.array([1, 2, 3])\n",
    "b = np.array([4, 5, 6])\n",
    "\n",
    "A = 10.0*a          # Producto de todos los elementos de a por un escalar\n",
    "SUMA = a + b        # [5, 7, 9]\n",
    "RESTA = a - b       # [-3, -3, -3]\n",
    "PROD = a * b        # [4, 10, 18] (elemento a elemento)\n",
    "DIV = a / b         # [0.25, 0.4, 0.5]\n",
    "P_ESC = a @ b       # Producto escalar \n",
    "\n",
    "D = np.sin(a)       # Calcula el seno de cada componente del vector a"
   ]
  },
  {
   "cell_type": "markdown",
   "id": "64763fd5",
   "metadata": {},
   "source": [
    "### **Trozeado de vectores y listas**"
   ]
  },
  {
   "cell_type": "markdown",
   "id": "b6366b34",
   "metadata": {},
   "source": [
    "Esta \"función\" tambien se puede utilizar con las listas de Python y otros elementos"
   ]
  },
  {
   "cell_type": "code",
   "execution_count": null,
   "id": "53139fe0",
   "metadata": {},
   "outputs": [
    {
     "name": "stdout",
     "output_type": "stream",
     "text": [
      "Vector base: [0.75136787 0.15578335 0.3553164  0.47361655 0.00986829]\n",
      "[0.75136787 0.15578335 0.3553164  0.47361655 0.00986829]\n",
      "[0.15578335 0.3553164 ]\n",
      "[0.3553164  0.47361655]\n",
      "[0.3553164  0.47361655 0.00986829]\n"
     ]
    }
   ],
   "source": [
    "a = np.random.rand(5)   # Vector base\n",
    "print(f\"Vector base: {a}\")\n",
    "\n",
    "B1 = a[:]       # Muestra el conjunto entero, sin cambios\n",
    "\n",
    "B2 = a[1:3]     # Muestra desde el índice 1 al 3 ( sin incluirlo ).\n",
    "\n",
    "B3 = a[2:-1]    # Muestra del índice 2 al penúltimo\n",
    "\n",
    "B4 = a[2:]      # Muestra del índice 2 al último\n",
    "\n",
    "# Recuerda cómo son los índices; [ 0 , 1 , 2 , ...] / [ ... , -2 , -1 ]\n",
    "\n",
    "B5 = a[:3]      # Muestra del inicio al índice 3\n",
    "\n",
    "B6 = a[4:]      # Muestra del índice 4 al final"
   ]
  },
  {
   "cell_type": "markdown",
   "id": "40226b3a",
   "metadata": {},
   "source": [
    "##### Concatenación y apilamiento"
   ]
  },
  {
   "cell_type": "code",
   "execution_count": null,
   "id": "40f962ec",
   "metadata": {},
   "outputs": [],
   "source": [
    "a = np.array([1, 2])\n",
    "b = np.array([3, 4])\n",
    "\n",
    "np.concatenate([a, b])    # [1, 2, 3, 4]\n",
    "np.vstack([a, b])         # [[1, 2], [3, 4]]\n",
    "np.hstack([a, b])         # [1, 2, 3, 4]"
   ]
  },
  {
   "cell_type": "markdown",
   "id": "0b50b324",
   "metadata": {},
   "source": [
    "##### Funciones estadísticas"
   ]
  },
  {
   "cell_type": "code",
   "execution_count": null,
   "id": "50e98b91",
   "metadata": {},
   "outputs": [],
   "source": [
    "x = np.array([1, 2, 3, 4, 5])\n",
    "\n",
    "np.mean(x)      # Media\n",
    "np.median(x)    # Mediana\n",
    "np.std(x)       # Desviación típica\n",
    "np.var(x)       # Varianza\n",
    "np.min(x)       # Valor mínimo\n",
    "np.max(x)       # Valor máximo\n",
    "np.sum(x)       # Suma total"
   ]
  },
  {
   "cell_type": "markdown",
   "id": "56d6a53b",
   "metadata": {},
   "source": [
    "## **Matplotlib**\n",
    "Esta librería es más facil copiar y pegar lo básico que aprendérsela."
   ]
  },
  {
   "cell_type": "code",
   "execution_count": null,
   "id": "c32c90f3",
   "metadata": {},
   "outputs": [
    {
     "data": {
      "text/plain": [
       "<matplotlib.legend.Legend at 0x198e9530f80>"
      ]
     },
     "execution_count": 12,
     "metadata": {},
     "output_type": "execute_result"
    },
    {
     "data": {
      "image/png": "[encoded data removed]",
      "text/plain": [
       "<Figure size 640x480 with 1 Axes>"
      ]
     },
     "metadata": {},
     "output_type": "display_data"
    }
   ],
   "source": [
    "# Esquema básico\n",
    "import matplotlib.pyplot as plt\n",
    "\n",
    "def f1(x):\n",
    "    y = 0.2*x*x - np.pi*x - 5\n",
    "    return y\n",
    "x = np.linspace(0, 10*np.pi, 500)   # Array de abscisas\n",
    "\n",
    "\n",
    "plt.xlabel('Tiempo (s)')        # Etiqueta del eje x\n",
    "plt.ylabel('Amplitud (cm)')     # Etiqueta del eje y\n",
    "plt.title('Representacion de una función')\n",
    "plt.legend('polinómica')\n",
    "\n",
    "p1 = plt.plot(x, f1(x))         # Función para representar, 1º Argumento: Valores de x . 2º: Función sobre la que calcular el valor de cada x\n"
   ]
  }
 ],
 "metadata": {
  "kernelspec": {
   "display_name": "Python [conda env:base] *",
   "language": "python",
   "name": "conda-base-py"
  },
  "language_info": {
   "codemirror_mode": {
    "name": "ipython",
    "version": 3
   },
   "file_extension": ".py",
   "mimetype": "text/x-python",
   "name": "python",
   "nbconvert_exporter": "python",
   "pygments_lexer": "ipython3",
   "version": "3.13.5"
  }
 },
 "nbformat": 4,
 "nbformat_minor": 5
}
